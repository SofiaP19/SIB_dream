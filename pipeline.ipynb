{
 "cells": [
  {
   "cell_type": "code",
   "execution_count": 3,
   "metadata": {},
   "outputs": [],
   "source": [
    "import pandas as pd\n",
    "import first_analysis\n",
    "#ainda não sei se funciona este import!!!\n",
    "#import ProFET_master.ProFET.feat_extract.enzyme_descriptors as enzyme_descriptors\n",
    "import enzyme_descriptors\n",
    "import kd_transformations\n",
    "import compound_descriptors\n",
    "import prepare_to_ML\n",
    "#import ML_models"
   ]
  },
  {
   "cell_type": "code",
   "execution_count": 4,
   "metadata": {},
   "outputs": [
    {
     "name": "stderr",
     "output_type": "stream",
     "text": [
      "/Users/martagomes/anaconda3/lib/python3.6/site-packages/IPython/core/interactiveshell.py:2785: DtypeWarning: Columns (1,3,8,21,25,31) have mixed types. Specify dtype option on import or set low_memory=False.\n",
      "  interactivity=interactivity, compiler=compiler, result=result)\n"
     ]
    }
   ],
   "source": [
    "#import data to a pandas object from csv file\n",
    "data_all = pd.read_csv('data/DtcDrugTargetInteractions.csv', sep=',')"
   ]
  },
  {
   "cell_type": "code",
   "execution_count": 5,
   "metadata": {},
   "outputs": [
    {
     "data": {
      "text/plain": [
       "(5867203, 32)"
      ]
     },
     "execution_count": 5,
     "metadata": {},
     "output_type": "execute_result"
    }
   ],
   "source": [
    "data_all.shape"
   ]
  },
  {
   "cell_type": "code",
   "execution_count": 6,
   "metadata": {},
   "outputs": [
    {
     "name": "stdout",
     "output_type": "stream",
     "text": [
      "<class 'pandas.core.frame.DataFrame'>\n",
      "RangeIndex: 5867203 entries, 0 to 5867202\n",
      "Data columns (total 32 columns):\n",
      "compound_id                          object\n",
      "standard_inchi_key                   object\n",
      "compound_name                        object\n",
      "synonym                              object\n",
      "target_id                            object\n",
      "target_pref_name                     object\n",
      "gene_names                           object\n",
      "wildtype_or_mutant                   object\n",
      "mutation_info                        object\n",
      "pubmed_id                            float64\n",
      "standard_type                        object\n",
      "standard_relation                    object\n",
      "standard_value                       float64\n",
      "standard_units                       object\n",
      "ep_action_mode                       object\n",
      "assay_format                         object\n",
      "assaytype                            object\n",
      "assay_subtype                        object\n",
      "inhibitor_type                       object\n",
      "detection_tech                       object\n",
      "assay_cell_line                      object\n",
      "compound_concentration_value         object\n",
      "compound_concentration_value_unit    object\n",
      "substrate_type                       object\n",
      "substrate_relation                   object\n",
      "substrate_value                      object\n",
      "substrate_units                      object\n",
      "assay_description                    object\n",
      "title                                object\n",
      "journal                              object\n",
      "doc_type                             object\n",
      "annotation_comments                  object\n",
      "dtypes: float64(2), object(30)\n",
      "memory usage: 1.4+ GB\n"
     ]
    }
   ],
   "source": [
    "data_all.info()"
   ]
  },
  {
   "cell_type": "code",
   "execution_count": 7,
   "metadata": {},
   "outputs": [],
   "source": [
    "import numpy as np\n",
    "indices = np.random.permutation(5867203)\n",
    "#print(indices)"
   ]
  },
  {
   "cell_type": "code",
   "execution_count": 16,
   "metadata": {},
   "outputs": [
    {
     "name": "stdout",
     "output_type": "stream",
     "text": [
      "<class 'numpy.ndarray'>\n"
     ]
    }
   ],
   "source": [
    "print(type(indices[0:500]))"
   ]
  },
  {
   "cell_type": "code",
   "execution_count": 20,
   "metadata": {
    "collapsed": true
   },
   "outputs": [],
   "source": [
    "index = list(indices[0:500])"
   ]
  },
  {
   "cell_type": "code",
   "execution_count": 21,
   "metadata": {},
   "outputs": [
    {
     "data": {
      "text/plain": [
       "list"
      ]
     },
     "execution_count": 21,
     "metadata": {},
     "output_type": "execute_result"
    }
   ],
   "source": [
    "type(index)"
   ]
  },
  {
   "cell_type": "code",
   "execution_count": 22,
   "metadata": {},
   "outputs": [
    {
     "data": {
      "text/plain": [
       "500"
      ]
     },
     "execution_count": 22,
     "metadata": {},
     "output_type": "execute_result"
    }
   ],
   "source": [
    "len(index)"
   ]
  },
  {
   "cell_type": "code",
   "execution_count": 23,
   "metadata": {},
   "outputs": [],
   "source": [
    "data = data_all.iloc[index,:]"
   ]
  },
  {
   "cell_type": "code",
   "execution_count": 24,
   "metadata": {},
   "outputs": [
    {
     "data": {
      "text/plain": [
       "(500, 32)"
      ]
     },
     "execution_count": 24,
     "metadata": {},
     "output_type": "execute_result"
    }
   ],
   "source": [
    "data.shape"
   ]
  },
  {
   "cell_type": "code",
   "execution_count": 25,
   "metadata": {},
   "outputs": [
    {
     "name": "stdout",
     "output_type": "stream",
     "text": [
      "<class 'pandas.core.frame.DataFrame'>\n",
      "Int64Index: 500 entries, 1627136 to 2879323\n",
      "Data columns (total 32 columns):\n",
      "compound_id                          498 non-null object\n",
      "standard_inchi_key                   493 non-null object\n",
      "compound_name                        71 non-null object\n",
      "synonym                              0 non-null object\n",
      "target_id                            499 non-null object\n",
      "target_pref_name                     500 non-null object\n",
      "gene_names                           388 non-null object\n",
      "wildtype_or_mutant                   10 non-null object\n",
      "mutation_info                        0 non-null object\n",
      "pubmed_id                            177 non-null float64\n",
      "standard_type                        500 non-null object\n",
      "standard_relation                    303 non-null object\n",
      "standard_value                       468 non-null float64\n",
      "standard_units                       461 non-null object\n",
      "ep_action_mode                       14 non-null object\n",
      "assay_format                         66 non-null object\n",
      "assaytype                            14 non-null object\n",
      "assay_subtype                        14 non-null object\n",
      "inhibitor_type                       6 non-null object\n",
      "detection_tech                       13 non-null object\n",
      "assay_cell_line                      35 non-null object\n",
      "compound_concentration_value         12 non-null object\n",
      "compound_concentration_value_unit    12 non-null object\n",
      "substrate_type                       10 non-null object\n",
      "substrate_relation                   4 non-null object\n",
      "substrate_value                      8 non-null object\n",
      "substrate_units                      8 non-null object\n",
      "assay_description                    494 non-null object\n",
      "title                                488 non-null object\n",
      "journal                              182 non-null object\n",
      "doc_type                             493 non-null object\n",
      "annotation_comments                  7 non-null object\n",
      "dtypes: float64(2), object(30)\n",
      "memory usage: 128.9+ KB\n"
     ]
    }
   ],
   "source": [
    "data.info()"
   ]
  },
  {
   "cell_type": "code",
   "execution_count": null,
   "metadata": {
    "collapsed": true
   },
   "outputs": [],
   "source": []
  },
  {
   "cell_type": "code",
   "execution_count": 26,
   "metadata": {},
   "outputs": [
    {
     "name": "stdout",
     "output_type": "stream",
     "text": [
      "Data head:\n",
      "\n",
      "           compound_id           standard_inchi_key          compound_name  \\\n",
      "1627136  CHEMBL1462008  HURVNUBCCDEKRW-ZRDIBKRKSA-N                    NaN   \n",
      "1232359  CHEMBL1382988  GDPMPIOBOVLEFC-UHFFFAOYSA-N                    NaN   \n",
      "4495953   CHEMBL221753  UREZNYTWGJKWBI-UHFFFAOYSA-M  BENZETHONIUM CHLORIDE   \n",
      "164163        CHEMBL30  AQIXAKUUQRKLND-UHFFFAOYSA-N             CIMETIDINE   \n",
      "5617646  CHEMBL1535676  ZIPNPHODCJOAKC-UHFFFAOYSA-N                    NaN   \n",
      "\n",
      "        synonym target_id                               target_pref_name  \\\n",
      "1627136     NaN    P04637                     CELLULAR TUMOR ANTIGEN P53   \n",
      "1232359     NaN    Q16236    NUCLEAR FACTOR ERYTHROID 2-RELATED FACTOR 2   \n",
      "4495953     NaN    P25101                       ENDOTHELIN RECEPTOR ET-A   \n",
      "164163      NaN    P41145                          KAPPA OPIOID RECEPTOR   \n",
      "5617646     NaN    Q96QE3  ATPASE FAMILY AAA DOMAIN-CONTAINING PROTEIN 5   \n",
      "\n",
      "        gene_names wildtype_or_mutant mutation_info  pubmed_id  \\\n",
      "1627136       TP53                NaN           NaN        NaN   \n",
      "1232359     NFE2L2                NaN           NaN        NaN   \n",
      "4495953      EDNRA                NaN           NaN        NaN   \n",
      "164163       OPRK1                NaN           NaN        NaN   \n",
      "5617646      ATAD5                NaN           NaN        NaN   \n",
      "\n",
      "                ...         compound_concentration_value_unit substrate_type  \\\n",
      "1627136         ...                                       NaN            NaN   \n",
      "1232359         ...                                       NaN            NaN   \n",
      "4495953         ...                                       NaN            NaN   \n",
      "164163          ...                                       NaN            NaN   \n",
      "5617646         ...                                       NaN            NaN   \n",
      "\n",
      "         substrate_relation substrate_value substrate_units  \\\n",
      "1627136                 NaN             NaN             NaN   \n",
      "1232359                 NaN             NaN             NaN   \n",
      "4495953                 NaN             NaN             NaN   \n",
      "164163                  NaN             NaN             NaN   \n",
      "5617646                 NaN             NaN             NaN   \n",
      "\n",
      "                                         assay_description  \\\n",
      "1627136  PUBCHEM_BIOASSAY: qHTS assay for re-activators...   \n",
      "1232359  PUBCHEM_BIOASSAY: Nrf2 qHTS screen for inhibit...   \n",
      "4495953  DRUGMATRIX: Endothelin ETA radioligand binding...   \n",
      "164163   DRUGMATRIX: Opiate kappa (OP2, KOP) radioligan...   \n",
      "5617646  PUBCHEM_BIOASSAY: qHTS screen for small molecu...   \n",
      "\n",
      "                                         title journal doc_type  \\\n",
      "1627136              PUBCHEM BIOASSAY DATA SET     NaN  DATASET   \n",
      "1232359              PUBCHEM BIOASSAY DATA SET     NaN  DATASET   \n",
      "4495953  DrugMatrix in vitro pharmacology data     NaN  DATASET   \n",
      "164163   DrugMatrix in vitro pharmacology data     NaN  DATASET   \n",
      "5617646              PUBCHEM BIOASSAY DATA SET     NaN  DATASET   \n",
      "\n",
      "        annotation_comments  \n",
      "1627136                 NaN  \n",
      "1232359                 NaN  \n",
      "4495953                 NaN  \n",
      "164163                  NaN  \n",
      "5617646                 NaN  \n",
      "\n",
      "[5 rows x 32 columns]\n",
      "\n",
      "\n",
      "Data info:\n",
      "\n",
      "<class 'pandas.core.frame.DataFrame'>\n",
      "Int64Index: 500 entries, 1627136 to 2879323\n",
      "Data columns (total 32 columns):\n",
      "compound_id                          498 non-null object\n",
      "standard_inchi_key                   493 non-null object\n",
      "compound_name                        71 non-null object\n",
      "synonym                              0 non-null object\n",
      "target_id                            499 non-null object\n",
      "target_pref_name                     500 non-null object\n",
      "gene_names                           388 non-null object\n",
      "wildtype_or_mutant                   10 non-null object\n",
      "mutation_info                        0 non-null object\n",
      "pubmed_id                            177 non-null float64\n",
      "standard_type                        500 non-null object\n",
      "standard_relation                    303 non-null object\n",
      "standard_value                       468 non-null float64\n",
      "standard_units                       461 non-null object\n",
      "ep_action_mode                       14 non-null object\n",
      "assay_format                         66 non-null object\n",
      "assaytype                            14 non-null object\n",
      "assay_subtype                        14 non-null object\n",
      "inhibitor_type                       6 non-null object\n",
      "detection_tech                       13 non-null object\n",
      "assay_cell_line                      35 non-null object\n",
      "compound_concentration_value         12 non-null object\n",
      "compound_concentration_value_unit    12 non-null object\n",
      "substrate_type                       10 non-null object\n",
      "substrate_relation                   4 non-null object\n",
      "substrate_value                      8 non-null object\n",
      "substrate_units                      8 non-null object\n",
      "assay_description                    494 non-null object\n",
      "title                                488 non-null object\n",
      "journal                              182 non-null object\n",
      "doc_type                             493 non-null object\n",
      "annotation_comments                  7 non-null object\n",
      "dtypes: float64(2), object(30)\n",
      "memory usage: 128.9+ KB\n",
      "None\n",
      "\n",
      "\n",
      "Null values for column: \n",
      "\n",
      "compound_id                            2\n",
      "standard_inchi_key                     7\n",
      "compound_name                        429\n",
      "synonym                              500\n",
      "target_id                              1\n",
      "target_pref_name                       0\n",
      "gene_names                           112\n",
      "wildtype_or_mutant                   490\n",
      "mutation_info                        500\n",
      "pubmed_id                            323\n",
      "standard_type                          0\n",
      "standard_relation                    197\n",
      "standard_value                        32\n",
      "standard_units                        39\n",
      "ep_action_mode                       486\n",
      "assay_format                         434\n",
      "assaytype                            486\n",
      "assay_subtype                        486\n",
      "inhibitor_type                       494\n",
      "detection_tech                       487\n",
      "assay_cell_line                      465\n",
      "compound_concentration_value         488\n",
      "compound_concentration_value_unit    488\n",
      "substrate_type                       490\n",
      "substrate_relation                   496\n",
      "substrate_value                      492\n",
      "substrate_units                      492\n",
      "assay_description                      6\n",
      "title                                 12\n",
      "journal                              318\n",
      "doc_type                               7\n",
      "annotation_comments                  493\n",
      "dtype: int64\n",
      "\n",
      "\n"
     ]
    }
   ],
   "source": [
    "first_analysis.look_at_data(data)"
   ]
  },
  {
   "cell_type": "code",
   "execution_count": 27,
   "metadata": {
    "collapsed": true
   },
   "outputs": [],
   "source": [
    "data = data.dropna(subset=['standard_value'])"
   ]
  },
  {
   "cell_type": "code",
   "execution_count": 28,
   "metadata": {},
   "outputs": [
    {
     "name": "stdout",
     "output_type": "stream",
     "text": [
      "compound_id                            2\n",
      "standard_inchi_key                     7\n",
      "compound_name                        416\n",
      "synonym                              468\n",
      "target_id                              1\n",
      "target_pref_name                       0\n",
      "gene_names                           107\n",
      "wildtype_or_mutant                   459\n",
      "mutation_info                        468\n",
      "pubmed_id                            304\n",
      "standard_type                          0\n",
      "standard_relation                    165\n",
      "standard_value                         0\n",
      "standard_units                         7\n",
      "ep_action_mode                       455\n",
      "assay_format                         415\n",
      "assaytype                            455\n",
      "assay_subtype                        455\n",
      "inhibitor_type                       463\n",
      "detection_tech                       456\n",
      "assay_cell_line                      444\n",
      "compound_concentration_value         457\n",
      "compound_concentration_value_unit    457\n",
      "substrate_type                       458\n",
      "substrate_relation                   464\n",
      "substrate_value                      460\n",
      "substrate_units                      460\n",
      "assay_description                      6\n",
      "title                                 11\n",
      "journal                              300\n",
      "doc_type                               7\n",
      "annotation_comments                  462\n",
      "dtype: int64\n"
     ]
    }
   ],
   "source": [
    "print(data.isnull().sum())"
   ]
  },
  {
   "cell_type": "code",
   "execution_count": 29,
   "metadata": {},
   "outputs": [
    {
     "name": "stdout",
     "output_type": "stream",
     "text": [
      "(468, 32)\n",
      "(5, 32)\n"
     ]
    }
   ],
   "source": [
    "#By default keep the lines with the following values in standard_type : [\"PKD\", \"LOGKD\", \"LOG KD\", \"LOG 1/KD\", \"Kd\", \"KD\\'\", \"-LOG KD\", \"KD\"]\n",
    "print(data.shape)\n",
    "data = kd_transformations.filter_standard_type(data, keep=True, list=['KD','Kd'])\n",
    "print(data.shape)"
   ]
  },
  {
   "cell_type": "code",
   "execution_count": 30,
   "metadata": {},
   "outputs": [
    {
     "name": "stdout",
     "output_type": "stream",
     "text": [
      "standard_type\n",
      "KD    5\n",
      "Name: compound_id, dtype: int64\n",
      "standard_units\n",
      "NM    5\n",
      "Name: standard_type, dtype: int64\n"
     ]
    }
   ],
   "source": [
    "#Confirm that is only kd values in NM units \n",
    "print(data.compound_id.groupby(data.standard_type).count())\n",
    "data = data[data.standard_units == 'NM']\n",
    "print(data.standard_type.groupby(data.standard_units).count())"
   ]
  },
  {
   "cell_type": "code",
   "execution_count": 31,
   "metadata": {},
   "outputs": [
    {
     "name": "stdout",
     "output_type": "stream",
     "text": [
      "2818208       12.59\n",
      "5111428    10000.00\n",
      "4406545    10000.00\n",
      "3410011    10000.00\n",
      "4494       10000.00\n",
      "Name: standard_value, dtype: float64\n",
      "compound_id                          0\n",
      "standard_inchi_key                   0\n",
      "compound_name                        1\n",
      "synonym                              5\n",
      "target_id                            0\n",
      "target_pref_name                     0\n",
      "gene_names                           1\n",
      "wildtype_or_mutant                   4\n",
      "mutation_info                        5\n",
      "pubmed_id                            0\n",
      "standard_type                        0\n",
      "standard_relation                    0\n",
      "standard_value                       0\n",
      "standard_units                       0\n",
      "ep_action_mode                       4\n",
      "assay_format                         3\n",
      "assaytype                            4\n",
      "assay_subtype                        4\n",
      "inhibitor_type                       5\n",
      "detection_tech                       4\n",
      "assay_cell_line                      5\n",
      "compound_concentration_value         4\n",
      "compound_concentration_value_unit    4\n",
      "substrate_type                       4\n",
      "substrate_relation                   5\n",
      "substrate_value                      5\n",
      "substrate_units                      5\n",
      "assay_description                    0\n",
      "title                                0\n",
      "journal                              0\n",
      "doc_type                             0\n",
      "annotation_comments                  5\n",
      "dtype: int64\n"
     ]
    },
    {
     "data": {
      "text/plain": [
       "2818208    7.899974\n",
       "5111428    5.000000\n",
       "4406545    5.000000\n",
       "3410011    5.000000\n",
       "4494       5.000000\n",
       "Name: standard_value, dtype: float64"
      ]
     },
     "execution_count": 31,
     "metadata": {},
     "output_type": "execute_result"
    }
   ],
   "source": [
    "print(data.standard_value)\n",
    "#Conversion to pkd values in the correct unites\n",
    "data = kd_transformations.conversion(data)\n",
    "#Check if is everything ok with standard values\n",
    "print(data.isnull().sum())\n",
    "data.standard_value"
   ]
  },
  {
   "cell_type": "code",
   "execution_count": 32,
   "metadata": {},
   "outputs": [
    {
     "name": "stdout",
     "output_type": "stream",
     "text": [
      "Null values for column: \n",
      "\n",
      "compound_id                          0\n",
      "standard_inchi_key                   0\n",
      "compound_name                        1\n",
      "synonym                              5\n",
      "target_id                            0\n",
      "target_pref_name                     0\n",
      "gene_names                           1\n",
      "wildtype_or_mutant                   4\n",
      "mutation_info                        5\n",
      "pubmed_id                            0\n",
      "standard_type                        0\n",
      "standard_relation                    0\n",
      "standard_value                       0\n",
      "standard_units                       0\n",
      "ep_action_mode                       4\n",
      "assay_format                         3\n",
      "assaytype                            4\n",
      "assay_subtype                        4\n",
      "inhibitor_type                       5\n",
      "detection_tech                       4\n",
      "assay_cell_line                      5\n",
      "compound_concentration_value         4\n",
      "compound_concentration_value_unit    4\n",
      "substrate_type                       4\n",
      "substrate_relation                   5\n",
      "substrate_value                      5\n",
      "substrate_units                      5\n",
      "assay_description                    0\n",
      "title                                0\n",
      "journal                              0\n",
      "doc_type                             0\n",
      "annotation_comments                  5\n",
      "dtype: int64\n",
      "\n",
      "\n",
      "Null values for column: \n",
      "\n",
      "compound_id                          0\n",
      "standard_inchi_key                   0\n",
      "compound_name                        1\n",
      "synonym                              5\n",
      "target_id                            0\n",
      "target_pref_name                     0\n",
      "gene_names                           1\n",
      "wildtype_or_mutant                   4\n",
      "mutation_info                        5\n",
      "pubmed_id                            0\n",
      "standard_type                        0\n",
      "standard_relation                    0\n",
      "standard_value                       0\n",
      "standard_units                       0\n",
      "ep_action_mode                       4\n",
      "assay_format                         3\n",
      "assaytype                            4\n",
      "assay_subtype                        4\n",
      "inhibitor_type                       5\n",
      "detection_tech                       4\n",
      "assay_cell_line                      5\n",
      "compound_concentration_value         4\n",
      "compound_concentration_value_unit    4\n",
      "substrate_type                       4\n",
      "substrate_relation                   5\n",
      "substrate_value                      5\n",
      "substrate_units                      5\n",
      "assay_description                    0\n",
      "title                                0\n",
      "journal                              0\n",
      "doc_type                             0\n",
      "annotation_comments                  5\n",
      "dtype: int64\n",
      "\n",
      "\n",
      "Null values for column: \n",
      "\n",
      "compound_id                          0\n",
      "standard_inchi_key                   0\n",
      "compound_name                        1\n",
      "synonym                              5\n",
      "target_id                            0\n",
      "target_pref_name                     0\n",
      "gene_names                           1\n",
      "wildtype_or_mutant                   4\n",
      "mutation_info                        5\n",
      "pubmed_id                            0\n",
      "standard_type                        0\n",
      "standard_relation                    0\n",
      "standard_value                       0\n",
      "standard_units                       0\n",
      "ep_action_mode                       4\n",
      "assay_format                         3\n",
      "assaytype                            4\n",
      "assay_subtype                        4\n",
      "inhibitor_type                       5\n",
      "detection_tech                       4\n",
      "assay_cell_line                      5\n",
      "compound_concentration_value         4\n",
      "compound_concentration_value_unit    4\n",
      "substrate_type                       4\n",
      "substrate_relation                   5\n",
      "substrate_value                      5\n",
      "substrate_units                      5\n",
      "assay_description                    0\n",
      "title                                0\n",
      "journal                              0\n",
      "doc_type                             0\n",
      "annotation_comments                  5\n",
      "dtype: int64\n",
      "\n",
      "\n"
     ]
    }
   ],
   "source": [
    "#COMPLETE COMPOUND ID WITH COMPOUND NAME\n",
    "data = first_analysis.complete_cols(data, 'compound_id', 'compound_name')\n",
    "#see if there were any changes\n",
    "print('Null values for column: \\n')\n",
    "print(data.isnull().sum())\n",
    "print('\\n')\n",
    "\n",
    "\n",
    "#COMPLETE COUMPOUND ID WITH STANDARD_INCHI_KEY\n",
    "data = first_analysis.complete_cols(data, 'compound_id', 'standard_inchi_key')\n",
    "#see if there were any changes\n",
    "print('Null values for column: \\n')\n",
    "print(data.isnull().sum())\n",
    "print('\\n')\n",
    "\n",
    "\n",
    "#COMPLETE STANDARD_INCHI_KEY WITH COMPOUND ID\n",
    "data = first_analysis.complete_cols(data, 'standard_inchi_key', 'compound_id')\n",
    "#see if there were any changes\n",
    "print('Null values for column: \\n')\n",
    "print(data.isnull().sum())\n",
    "print('\\n')"
   ]
  },
  {
   "cell_type": "code",
   "execution_count": 33,
   "metadata": {},
   "outputs": [
    {
     "data": {
      "text/plain": [
       "(5, 32)"
      ]
     },
     "execution_count": 33,
     "metadata": {},
     "output_type": "execute_result"
    }
   ],
   "source": [
    "data.shape"
   ]
  },
  {
   "cell_type": "code",
   "execution_count": 34,
   "metadata": {},
   "outputs": [
    {
     "name": "stdout",
     "output_type": "stream",
     "text": [
      "Morgan\n",
      "MACCS\n",
      "MolLogP\n",
      "compound_id                          0\n",
      "standard_inchi_key                   0\n",
      "compound_name                        1\n",
      "target_id                            0\n",
      "target_pref_name                     0\n",
      "gene_names                           1\n",
      "wildtype_or_mutant                   4\n",
      "pubmed_id                            0\n",
      "standard_type                        0\n",
      "standard_relation                    0\n",
      "standard_value                       0\n",
      "standard_units                       0\n",
      "ep_action_mode                       4\n",
      "assay_format                         3\n",
      "assaytype                            4\n",
      "assay_subtype                        4\n",
      "detection_tech                       4\n",
      "compound_concentration_value         4\n",
      "compound_concentration_value_unit    4\n",
      "substrate_type                       4\n",
      "assay_description                    0\n",
      "title                                0\n",
      "journal                              0\n",
      "doc_type                             0\n",
      "smiles                               0\n",
      "standard_inchi                       0\n",
      "standard_inchi_key_chembl            0\n",
      "Morgan_0                             0\n",
      "Morgan_1                             0\n",
      "Morgan_2                             0\n",
      "                                    ..\n",
      "MACCS_138                            0\n",
      "MACCS_139                            0\n",
      "MACCS_140                            0\n",
      "MACCS_141                            0\n",
      "MACCS_142                            0\n",
      "MACCS_143                            0\n",
      "MACCS_144                            0\n",
      "MACCS_145                            0\n",
      "MACCS_146                            0\n",
      "MACCS_147                            0\n",
      "MACCS_148                            0\n",
      "MACCS_149                            0\n",
      "MACCS_150                            0\n",
      "MACCS_151                            0\n",
      "MACCS_152                            0\n",
      "MACCS_153                            0\n",
      "MACCS_154                            0\n",
      "MACCS_155                            0\n",
      "MACCS_156                            0\n",
      "MACCS_157                            0\n",
      "MACCS_158                            0\n",
      "MACCS_159                            0\n",
      "MACCS_160                            0\n",
      "MACCS_161                            0\n",
      "MACCS_162                            0\n",
      "MACCS_163                            0\n",
      "MACCS_164                            0\n",
      "MACCS_165                            0\n",
      "MACCS_166                            0\n",
      "MolLogP                              0\n",
      "Length: 1219, dtype: int64\n",
      "(5, 1219)\n"
     ]
    }
   ],
   "source": [
    "#GET COMPOUND DESCRIPTORS (lines with nan compound_id values are deleted)\n",
    "data = compound_descriptors.get_compound_descriptors(data)\n",
    "print(data.isnull().sum())\n",
    "print(data.shape)"
   ]
  },
  {
   "cell_type": "code",
   "execution_count": 17,
   "metadata": {
    "collapsed": true
   },
   "outputs": [],
   "source": [
    "data.to_csv('data_only_compound_descriptord.csv')"
   ]
  },
  {
   "cell_type": "code",
   "execution_count": 2,
   "metadata": {},
   "outputs": [
    {
     "name": "stderr",
     "output_type": "stream",
     "text": [
      "/Users/martagomes/anaconda3/lib/python3.6/site-packages/IPython/core/interactiveshell.py:2785: DtypeWarning: Columns (2,3,4,8,9,15,16,17,18,19,20,21,22,23,24,29) have mixed types. Specify dtype option on import or set low_memory=False.\n",
      "  interactivity=interactivity, compiler=compiler, result=result)\n"
     ]
    }
   ],
   "source": [
    "data=pd.read_csv('data_only_compound_descriptord.csv',index_col = 0)"
   ]
  },
  {
   "cell_type": "code",
   "execution_count": 35,
   "metadata": {},
   "outputs": [
    {
     "data": {
      "text/html": [
       "<div>\n",
       "<style scoped>\n",
       "    .dataframe tbody tr th:only-of-type {\n",
       "        vertical-align: middle;\n",
       "    }\n",
       "\n",
       "    .dataframe tbody tr th {\n",
       "        vertical-align: top;\n",
       "    }\n",
       "\n",
       "    .dataframe thead th {\n",
       "        text-align: right;\n",
       "    }\n",
       "</style>\n",
       "<table border=\"1\" class=\"dataframe\">\n",
       "  <thead>\n",
       "    <tr style=\"text-align: right;\">\n",
       "      <th></th>\n",
       "      <th>compound_id</th>\n",
       "      <th>standard_inchi_key</th>\n",
       "      <th>compound_name</th>\n",
       "      <th>target_id</th>\n",
       "      <th>target_pref_name</th>\n",
       "      <th>gene_names</th>\n",
       "      <th>wildtype_or_mutant</th>\n",
       "      <th>pubmed_id</th>\n",
       "      <th>standard_type</th>\n",
       "      <th>standard_relation</th>\n",
       "      <th>...</th>\n",
       "      <th>MACCS_158</th>\n",
       "      <th>MACCS_159</th>\n",
       "      <th>MACCS_160</th>\n",
       "      <th>MACCS_161</th>\n",
       "      <th>MACCS_162</th>\n",
       "      <th>MACCS_163</th>\n",
       "      <th>MACCS_164</th>\n",
       "      <th>MACCS_165</th>\n",
       "      <th>MACCS_166</th>\n",
       "      <th>MolLogP</th>\n",
       "    </tr>\n",
       "  </thead>\n",
       "  <tbody>\n",
       "    <tr>\n",
       "      <th>0</th>\n",
       "      <td>CHEMBL69901</td>\n",
       "      <td>MVPWJPFOERRNKK-UHFFFAOYSA-N</td>\n",
       "      <td>NaN</td>\n",
       "      <td>Q9JI35</td>\n",
       "      <td>HISTAMINE H3 RECEPTOR</td>\n",
       "      <td>NaN</td>\n",
       "      <td>NaN</td>\n",
       "      <td>9873505.0</td>\n",
       "      <td>KD</td>\n",
       "      <td>=</td>\n",
       "      <td>...</td>\n",
       "      <td>1</td>\n",
       "      <td>1</td>\n",
       "      <td>0</td>\n",
       "      <td>1</td>\n",
       "      <td>1</td>\n",
       "      <td>1</td>\n",
       "      <td>1</td>\n",
       "      <td>1</td>\n",
       "      <td>0</td>\n",
       "      <td>2.3643</td>\n",
       "    </tr>\n",
       "    <tr>\n",
       "      <th>1</th>\n",
       "      <td>CHEMBL939</td>\n",
       "      <td>XGALLCVXEZPNRQ-UHFFFAOYSA-N</td>\n",
       "      <td>GEFITINIB</td>\n",
       "      <td>P78362</td>\n",
       "      <td>SERINE/THREONINE-PROTEIN KINASE SRPK2</td>\n",
       "      <td>SRPK2</td>\n",
       "      <td>wild_type</td>\n",
       "      <td>22037378.0</td>\n",
       "      <td>KD</td>\n",
       "      <td>&gt;</td>\n",
       "      <td>...</td>\n",
       "      <td>1</td>\n",
       "      <td>1</td>\n",
       "      <td>1</td>\n",
       "      <td>1</td>\n",
       "      <td>1</td>\n",
       "      <td>1</td>\n",
       "      <td>1</td>\n",
       "      <td>1</td>\n",
       "      <td>0</td>\n",
       "      <td>4.2756</td>\n",
       "    </tr>\n",
       "    <tr>\n",
       "      <th>2</th>\n",
       "      <td>CHEMBL24828</td>\n",
       "      <td>UHTHHESEBZOYNR-UHFFFAOYSA-N</td>\n",
       "      <td>VANDETANIB</td>\n",
       "      <td>Q9BRS2</td>\n",
       "      <td>SERINE/THREONINE-PROTEIN KINASE RIO1</td>\n",
       "      <td>RIOK1</td>\n",
       "      <td>NaN</td>\n",
       "      <td>18183025.0</td>\n",
       "      <td>KD</td>\n",
       "      <td>&gt;</td>\n",
       "      <td>...</td>\n",
       "      <td>1</td>\n",
       "      <td>1</td>\n",
       "      <td>1</td>\n",
       "      <td>1</td>\n",
       "      <td>1</td>\n",
       "      <td>1</td>\n",
       "      <td>1</td>\n",
       "      <td>1</td>\n",
       "      <td>0</td>\n",
       "      <td>5.0042</td>\n",
       "    </tr>\n",
       "    <tr>\n",
       "      <th>3</th>\n",
       "      <td>CHEMBL522892</td>\n",
       "      <td>PIQCTGMSNWUMAF-UHFFFAOYSA-N</td>\n",
       "      <td>DOVITINIB</td>\n",
       "      <td>P31749</td>\n",
       "      <td>SERINE/THREONINE-PROTEIN KINASE AKT</td>\n",
       "      <td>AKT1</td>\n",
       "      <td>NaN</td>\n",
       "      <td>18183025.0</td>\n",
       "      <td>KD</td>\n",
       "      <td>&gt;</td>\n",
       "      <td>...</td>\n",
       "      <td>1</td>\n",
       "      <td>0</td>\n",
       "      <td>1</td>\n",
       "      <td>1</td>\n",
       "      <td>1</td>\n",
       "      <td>1</td>\n",
       "      <td>1</td>\n",
       "      <td>1</td>\n",
       "      <td>0</td>\n",
       "      <td>2.5445</td>\n",
       "    </tr>\n",
       "    <tr>\n",
       "      <th>4</th>\n",
       "      <td>CHEMBL553</td>\n",
       "      <td>AAKJLRGGTJKAMG-UHFFFAOYSA-N</td>\n",
       "      <td>ERLOTINIB</td>\n",
       "      <td>P23458</td>\n",
       "      <td>TYROSINE-PROTEIN KINASE JAK1</td>\n",
       "      <td>JAK1</td>\n",
       "      <td>NaN</td>\n",
       "      <td>22037378.0</td>\n",
       "      <td>KD</td>\n",
       "      <td>&gt;</td>\n",
       "      <td>...</td>\n",
       "      <td>1</td>\n",
       "      <td>1</td>\n",
       "      <td>1</td>\n",
       "      <td>1</td>\n",
       "      <td>1</td>\n",
       "      <td>1</td>\n",
       "      <td>1</td>\n",
       "      <td>1</td>\n",
       "      <td>0</td>\n",
       "      <td>3.4051</td>\n",
       "    </tr>\n",
       "  </tbody>\n",
       "</table>\n",
       "<p>5 rows × 1219 columns</p>\n",
       "</div>"
      ],
      "text/plain": [
       "    compound_id           standard_inchi_key compound_name target_id  \\\n",
       "0   CHEMBL69901  MVPWJPFOERRNKK-UHFFFAOYSA-N           NaN    Q9JI35   \n",
       "1     CHEMBL939  XGALLCVXEZPNRQ-UHFFFAOYSA-N     GEFITINIB    P78362   \n",
       "2   CHEMBL24828  UHTHHESEBZOYNR-UHFFFAOYSA-N    VANDETANIB    Q9BRS2   \n",
       "3  CHEMBL522892  PIQCTGMSNWUMAF-UHFFFAOYSA-N     DOVITINIB    P31749   \n",
       "4     CHEMBL553  AAKJLRGGTJKAMG-UHFFFAOYSA-N     ERLOTINIB    P23458   \n",
       "\n",
       "                        target_pref_name gene_names wildtype_or_mutant  \\\n",
       "0                  HISTAMINE H3 RECEPTOR        NaN                NaN   \n",
       "1  SERINE/THREONINE-PROTEIN KINASE SRPK2      SRPK2          wild_type   \n",
       "2   SERINE/THREONINE-PROTEIN KINASE RIO1      RIOK1                NaN   \n",
       "3    SERINE/THREONINE-PROTEIN KINASE AKT       AKT1                NaN   \n",
       "4           TYROSINE-PROTEIN KINASE JAK1       JAK1                NaN   \n",
       "\n",
       "    pubmed_id standard_type standard_relation   ...    MACCS_158 MACCS_159  \\\n",
       "0   9873505.0            KD                 =   ...            1         1   \n",
       "1  22037378.0            KD                 >   ...            1         1   \n",
       "2  18183025.0            KD                 >   ...            1         1   \n",
       "3  18183025.0            KD                 >   ...            1         0   \n",
       "4  22037378.0            KD                 >   ...            1         1   \n",
       "\n",
       "  MACCS_160 MACCS_161 MACCS_162 MACCS_163 MACCS_164 MACCS_165 MACCS_166  \\\n",
       "0         0         1         1         1         1         1         0   \n",
       "1         1         1         1         1         1         1         0   \n",
       "2         1         1         1         1         1         1         0   \n",
       "3         1         1         1         1         1         1         0   \n",
       "4         1         1         1         1         1         1         0   \n",
       "\n",
       "  MolLogP  \n",
       "0  2.3643  \n",
       "1  4.2756  \n",
       "2  5.0042  \n",
       "3  2.5445  \n",
       "4  3.4051  \n",
       "\n",
       "[5 rows x 1219 columns]"
      ]
     },
     "execution_count": 35,
     "metadata": {},
     "output_type": "execute_result"
    }
   ],
   "source": [
    "data.head()"
   ]
  },
  {
   "cell_type": "code",
   "execution_count": 36,
   "metadata": {},
   "outputs": [
    {
     "name": "stdout",
     "output_type": "stream",
     "text": [
      "{'AA: M Frequency': 1.353, 'AA: K Frequency': 5.099, 'AA: F Frequency': 3.434, 'AA: D Frequency': 4.683, 'AA: S Frequency': 8.325, 'AA: R Frequency': 3.33, 'AA: E Frequency': 4.475, 'AA: Q Frequency': 11.655, 'AA: G Frequency': 6.764, 'AA: L Frequency': 8.741, 'AA: T Frequency': 6.452, 'AA: Y Frequency': 1.561, 'AA: I Frequency': 4.162, 'AA: V Frequency': 5.307, 'AA: A Frequency': 8.221, 'AA: N Frequency': 3.434, 'AA: C Frequency': 1.353, 'AA: H Frequency': 1.561, 'AA: W Frequency': 0.312, 'AA: P Frequency': 9.781, 'M Entropy': 6.207952902632658, 'K Entropy': 4.293682776658542, 'F Entropy': 4.863998501415297, 'D Entropy': 4.416539524444076, 'S Entropy': 3.586464525886388, 'R Entropy': 4.90839262077375, 'E Entropy': 4.482127866071653, 'Q Entropy': 3.101037698716146, 'G Entropy': 3.886024807745296, 'L Entropy': 3.51607519799499, 'T Entropy': 3.9541963103868754, 'Y Entropy': 6.001502025165232, 'I Entropy': 4.586464525886388, 'V Entropy': 4.235967278802255, 'A Entropy': 3.6046118725966476, 'N Entropy': 4.863998501415297, 'C Entropy': 6.207952902632658, 'H Entropy': 6.001502025165232, 'W Entropy': 8.323430120052594, 'P Entropy': 3.353803769096113, 'Total Entropy': 4.030417391914397, 'PI': 6.16, 'Molecular Weight': 103883.7, 'GRAVY': -0.52, 'Aromaticity': 0.05, 'Instability index': 56.53, 'Sequence Length': 961, 'Flexibility (B-values):mean': 1.0087596038415365, 'Flexibility (B-values):Max': 1.06875, 'Flexibility (B-values): Min': 0.9275714285714285, 'hp aaScale - Window size:7 MAXIMUM ': 0.38571428571428573, 'hp aaScale - Window size:7 MINIMUM ': -3.557142857142857, 'hp aaScale - Window size:7 Average-Trimmed MAX': -0.9089379207180255, 'hp aaScale - Window size:7 Average-Trimmed MIN': -2.0575168287210173, 'hp aaScale - Window size:7 Trimmed Average': -0.5260869565217391, 'ja aaScale - Window size:7 MAXIMUM ': 0.042857142857142864, 'ja aaScale - Window size:7 MINIMUM ': -0.8585714285714285, 'ja aaScale - Window size:7 Average-Trimmed MAX': -0.26527486910994763, 'ja aaScale - Window size:7 Average-Trimmed MIN': -0.5244053851907254, 'ja aaScale - Window size:7 Trimmed Average': -0.17887204968944095, 'polarizability aaScale - Window size:7 MAXIMUM ': 0.16999999999999998, 'polarizability aaScale - Window size:7 MINIMUM ': 0.017714285714285714, 'polarizability aaScale - Window size:7 Average-Trimmed MAX': 0.1306340688107704, 'polarizability aaScale - Window size:7 Average-Trimmed MIN': 0.09686163051608081, 'polarizability aaScale - Window size:7 Trimmed Average': 0.14189565217391306, 'Mutability aaScale - Window size:7 MAXIMUM ': 88.0, 'Mutability aaScale - Window size:7 MINIMUM ': 36.714285714285715, 'Mutability aaScale - Window size:7 Average-Trimmed MAX': 75.62322363500374, 'Mutability aaScale - Window size:7 Average-Trimmed MIN': 63.836200448765894, 'Mutability aaScale - Window size:7 Trimmed Average': 79.55155279503106, 'Volume aaScale - Window size:7 MAXIMUM ': 87.51428571428573, 'Volume aaScale - Window size:7 MINIMUM ': 41.61428571428571, 'Volume aaScale - Window size:7 Average-Trimmed MAX': 76.38246073298428, 'Volume aaScale - Window size:7 Average-Trimmed MIN': 66.36724008975318, 'Volume aaScale - Window size:7 Trimmed Average': 79.72176397515528, 'ASAInTripeptide aaScale - Window size:7 MAXIMUM ': 170.0, 'ASAInTripeptide aaScale - Window size:7 MINIMUM ': 86.42857142857143, 'ASAInTripeptide aaScale - Window size:7 Average-Trimmed MAX': 150.6628646222887, 'ASAInTripeptide aaScale - Window size:7 Average-Trimmed MIN': 133.39566192969338, 'ASAInTripeptide aaScale - Window size:7 Trimmed Average': 156.42111801242237, 'gg_1 aaScale - Window size:7 MAXIMUM ': 0.3371428571428572, 'gg_1 aaScale - Window size:7 MINIMUM ': -2.7328571428571427, 'gg_1 aaScale - Window size:7 Average-Trimmed MAX': -0.6600822737471953, 'gg_1 aaScale - Window size:7 Average-Trimmed MIN': -1.472004487658938, 'gg_1 aaScale - Window size:7 Trimmed Average': -0.3893291925465838, 'gg_2 aaScale - Window size:7 MAXIMUM ': 0.8328571428571429, 'gg_2 aaScale - Window size:7 MINIMUM ': -3.0785714285714283, 'gg_2 aaScale - Window size:7 Average-Trimmed MAX': -0.4798017950635752, 'gg_2 aaScale - Window size:7 Average-Trimmed MIN': -1.5538145100972327, 'gg_2 aaScale - Window size:7 Trimmed Average': -0.12168198757763976, 'gg_3 aaScale - Window size:7 MAXIMUM ': 0.19142857142857148, 'gg_3 aaScale - Window size:7 MINIMUM ': -2.9200000000000004, 'gg_3 aaScale - Window size:7 Average-Trimmed MAX': -0.7509779356768885, 'gg_3 aaScale - Window size:7 Average-Trimmed MIN': -1.5751682872101722, 'gg_3 aaScale - Window size:7 Trimmed Average': -0.476208695652174, 'gg_4 aaScale - Window size:7 MAXIMUM ': 1.4685714285714286, 'gg_4 aaScale - Window size:7 MINIMUM ': -1.85, 'gg_4 aaScale - Window size:7 Average-Trimmed MAX': 0.4799569932685116, 'gg_4 aaScale - Window size:7 Average-Trimmed MIN': -0.45615557217651465, 'gg_4 aaScale - Window size:7 Trimmed Average': 0.7919204968944099, 'gg_5 aaScale - Window size:7 MAXIMUM ': 0.562857142857143, 'gg_5 aaScale - Window size:7 MINIMUM ': -4.812857142857142, 'gg_5 aaScale - Window size:7 Average-Trimmed MAX': -0.7932385938668661, 'gg_5 aaScale - Window size:7 Average-Trimmed MIN': -2.4864697083021694, 'gg_5 aaScale - Window size:7 Trimmed Average': -0.22940621118012425, 'gg_6 aaScale - Window size:7 MAXIMUM ': 0.6571428571428571, 'gg_6 aaScale - Window size:7 MINIMUM ': -2.327142857142857, 'gg_6 aaScale - Window size:7 Average-Trimmed MAX': -0.45855459985041136, 'gg_6 aaScale - Window size:7 Average-Trimmed MIN': -1.2778982797307403, 'gg_6 aaScale - Window size:7 Trimmed Average': -0.1852223602484472, 'gg_7 aaScale - Window size:7 MAXIMUM ': 0.71, 'gg_7 aaScale - Window size:7 MINIMUM ': -3.1571428571428575, 'gg_7 aaScale - Window size:7 Average-Trimmed MAX': -0.17264023934181008, 'gg_7 aaScale - Window size:7 Average-Trimmed MIN': -1.1552804786836202, 'gg_7 aaScale - Window size:7 Trimmed Average': 0.154583850931677, 'gg_8 aaScale - Window size:7 MAXIMUM ': 0.8085714285714286, 'gg_8 aaScale - Window size:7 MINIMUM ': -3.2357142857142853, 'gg_8 aaScale - Window size:7 Average-Trimmed MAX': -0.2986948391922213, 'gg_8 aaScale - Window size:7 Average-Trimmed MIN': -1.3356320119670904, 'gg_8 aaScale - Window size:7 Trimmed Average': 0.04697391304347832, 'gg_9 aaScale - Window size:7 MAXIMUM ': 0.3971428571428572, 'gg_9 aaScale - Window size:7 MINIMUM ': -1.92, 'gg_9 aaScale - Window size:7 Average-Trimmed MAX': -0.49462789827973075, 'gg_9 aaScale - Window size:7 Average-Trimmed MIN': -1.2575018698578908, 'gg_9 aaScale - Window size:7 Trimmed Average': -0.24031552795031055, 'gg_10 aaScale - Window size:7 MAXIMUM ': 0.4342857142857142, 'gg_10 aaScale - Window size:7 MINIMUM ': -2.011428571428571, 'gg_10 aaScale - Window size:7 Average-Trimmed MAX': -0.4714454001495886, 'gg_10 aaScale - Window size:7 Average-Trimmed MIN': -1.2038593866866116, 'gg_10 aaScale - Window size:7 Trimmed Average': -0.2271701863354037, 'gg_11 aaScale - Window size:7 MAXIMUM ': 0.6957142857142857, 'gg_11 aaScale - Window size:7 MINIMUM ': -2.628571428571429, 'gg_11 aaScale - Window size:7 Average-Trimmed MAX': -0.26862191473448016, 'gg_11 aaScale - Window size:7 Average-Trimmed MIN': -1.142902019446522, 'gg_11 aaScale - Window size:7 Trimmed Average': 0.022832298136645997, 'Aliphaticness': 73.93340270551508, 'Net Charge-PH: 3.5': 77.55059452257007, 'Net Charge-PH: 4.5': 33.33758927259565, 'Net Charge-PH: 5.5': 8.622707039387105, 'Net Charge-PH: 6.81': -4.850535544041556, 'Net Charge-PH: 7.2': -6.9568576620026406, 'Net Charge-PH: 7.36': -7.754271321118548, 'Net Charge-PH: 7.5': -8.493537385294935, 'Net Charge-PH: 8.1': -12.77519693172485, 'Binary AutoCorrellation (K,R):  Lag:2': 0.013527575442247659, 'Binary AutoCorrellation (K,R):  Lag:3': 0.013527575442247659, 'Binary AutoCorrellation (K,R):  Lag:4': 0.012486992715920915, 'Binary AutoCorrellation (K,R):  Lag:5': 0.012486992715920915, 'Binary AutoCorrellation (K,R):  Lag:6': 0.012486992715920915, 'Binary AutoCorrellation (K,R):  Lag:8': 0.012486992715920915, 'Binary AutoCorrellation (K,R):  Lag:9': 0.012486992715920915, 'Binary AutoCorrellation (K,R):  Lag:12': 0.011446409989594173, 'Binary AutoCorrellation (C):  Lag:2': 0.002081165452653486, 'Binary AutoCorrellation (C):  Lag:3': 0.002081165452653486, 'Binary AutoCorrellation (C):  Lag:4': 0.002081165452653486, 'Binary AutoCorrellation (C):  Lag:5': 0.002081165452653486, 'Binary AutoCorrellation (C):  Lag:6': 0.002081165452653486, 'Binary AutoCorrellation (C):  Lag:8': 0.002081165452653486, 'Binary AutoCorrellation (C):  Lag:9': 0.002081165452653486, 'Binary AutoCorrellation (C):  Lag:12': 0.001040582726326743, 'Cysteine window Motif:0': 0, 'Cysteine Spaced Motif:': 0, 'disordered_window_0': 0, 'disordered_window_1': 1, 'anyDISORDER_4': 1, 'disordered_window_2': 1, 'disordered_window_3': 0, 'hp aaScale - Window size:17 MAXIMUM ': 0.07417763157894736, 'hp aaScale - Window size:17 MINIMUM ': -3.0350328947368426, 'hp aaScale - Window size:17 Average-Trimmed MAX': -0.7820662768031189, 'hp aaScale - Window size:17 Average-Trimmed MIN': -1.5405379768866614, 'hp aaScale - Window size:17 Trimmed Average': -0.5292621519748404, 'ja aaScale - Window size:17 MAXIMUM ': -0.03106907894736842, 'ja aaScale - Window size:17 MINIMUM ': -0.5900164473684211, 'ja aaScale - Window size:17 Average-Trimmed MAX': -0.23935048123781677, 'ja aaScale - Window size:17 Average-Trimmed MIN': -0.3981679894179895, 'ja aaScale - Window size:17 Trimmed Average': -0.18637880399593013, 'polarizability aaScale - Window size:17 MAXIMUM ': 0.16165789473684214, 'polarizability aaScale - Window size:17 MINIMUM ': 0.038875, 'polarizability aaScale - Window size:17 Average-Trimmed MAX': 0.13352633754525203, 'polarizability aaScale - Window size:17 Average-Trimmed MIN': 0.10929907233361182, 'polarizability aaScale - Window size:17 Trimmed Average': 0.14160386701045233, 'Mutability aaScale - Window size:17 MAXIMUM ': 85.03618421052633, 'Mutability aaScale - Window size:17 MINIMUM ': 45.62171052631579, 'Mutability aaScale - Window size:17 Average-Trimmed MAX': 77.01967810150377, 'Mutability aaScale - Window size:17 Average-Trimmed MIN': 69.27375730994153, 'Mutability aaScale - Window size:17 Trimmed Average': 79.60137533530664, 'Volume aaScale - Window size:17 MAXIMUM ': 85.06743421052633, 'Volume aaScale - Window size:17 MINIMUM ': 48.67220394736842, 'Volume aaScale - Window size:17 Average-Trimmed MAX': 77.20763018657756, 'Volume aaScale - Window size:17 Average-Trimmed MIN': 69.95384642160957, 'Volume aaScale - Window size:17 Trimmed Average': 79.62568535519378, 'ASAInTripeptide aaScale - Window size:17 MAXIMUM ': 165.0575657894737, 'ASAInTripeptide aaScale - Window size:17 MINIMUM ': 98.37993421052632, 'ASAInTripeptide aaScale - Window size:17 Average-Trimmed MAX': 151.989326615149, 'ASAInTripeptide aaScale - Window size:17 Average-Trimmed MIN': 139.46920252018936, 'ASAInTripeptide aaScale - Window size:17 Trimmed Average': 156.16192419757658, 'gg_1 aaScale - Window size:17 MAXIMUM ': 0.07208881578947374, 'gg_1 aaScale - Window size:17 MINIMUM ': -2.01921052631579, 'gg_1 aaScale - Window size:17 Average-Trimmed MAX': -0.5577550865009747, 'gg_1 aaScale - Window size:17 Average-Trimmed MIN': -1.091369395711501, 'gg_1 aaScale - Window size:17 Trimmed Average': -0.3799237755526778, 'gg_2 aaScale - Window size:17 MAXIMUM ': 0.5132894736842105, 'gg_2 aaScale - Window size:17 MINIMUM ': -2.5612335526315793, 'gg_2 aaScale - Window size:17 Average-Trimmed MAX': -0.3813644789055975, 'gg_2 aaScale - Window size:17 Average-Trimmed MIN': -1.1652873503202452, 'gg_2 aaScale - Window size:17 Trimmed Average': -0.12002589954675794, 'gg_3 aaScale - Window size:17 MAXIMUM ': -0.04748355263157887, 'gg_3 aaScale - Window size:17 MINIMUM ': -2.321759868421053, 'gg_3 aaScale - Window size:17 Average-Trimmed MAX': -0.6793382762461709, 'gg_3 aaScale - Window size:17 Average-Trimmed MIN': -1.2500017404622668, 'gg_3 aaScale - Window size:17 Trimmed Average': -0.4891089515308483, 'gg_4 aaScale - Window size:17 MAXIMUM ': 1.3372203947368422, 'gg_4 aaScale - Window size:17 MINIMUM ': -1.7153618421052634, 'gg_4 aaScale - Window size:17 Average-Trimmed MAX': 0.5463441154970761, 'gg_4 aaScale - Window size:17 Average-Trimmed MIN': -0.18043763923698145, 'gg_4 aaScale - Window size:17 Trimmed Average': 0.7886111078993617, 'gg_5 aaScale - Window size:17 MAXIMUM ': 0.3408881578947369, 'gg_5 aaScale - Window size:17 MINIMUM ': -3.7226644736842114, 'gg_5 aaScale - Window size:17 Average-Trimmed MAX': -0.7347263558201058, 'gg_5 aaScale - Window size:17 Average-Trimmed MIN': -2.025826284461153, 'gg_5 aaScale - Window size:17 Trimmed Average': -0.3050237027102026, 'gg_6 aaScale - Window size:17 MAXIMUM ': 0.37611842105263155, 'gg_6 aaScale - Window size:17 MINIMUM ': -1.4673684210526319, 'gg_6 aaScale - Window size:17 Average-Trimmed MAX': -0.36530305799220275, 'gg_6 aaScale - Window size:17 Average-Trimmed MIN': -0.9215754664438874, 'gg_6 aaScale - Window size:17 Trimmed Average': -0.17981410715937476, 'gg_7 aaScale - Window size:17 MAXIMUM ': 0.5539473684210526, 'gg_7 aaScale - Window size:17 MINIMUM ': -1.8365789473684213, 'gg_7 aaScale - Window size:17 Average-Trimmed MAX': -0.08733957289055981, 'gg_7 aaScale - Window size:17 Average-Trimmed MIN': -0.809878254664439, 'gg_7 aaScale - Window size:17 Trimmed Average': 0.15313835445379703, 'gg_8 aaScale - Window size:17 MAXIMUM ': 0.5527138157894739, 'gg_8 aaScale - Window size:17 MINIMUM ': -1.8755592105263155, 'gg_8 aaScale - Window size:17 Average-Trimmed MAX': -0.18633926395850728, 'gg_8 aaScale - Window size:17 Average-Trimmed MIN': -0.9688829713171818, 'gg_8 aaScale - Window size:17 Trimmed Average': 0.07432669850152629, 'gg_9 aaScale - Window size:17 MAXIMUM ': 0.2513486842105265, 'gg_9 aaScale - Window size:17 MINIMUM ': -1.725608552631579, 'gg_9 aaScale - Window size:17 Average-Trimmed MAX': -0.43391386452241715, 'gg_9 aaScale - Window size:17 Average-Trimmed MIN': -1.0563088276246173, 'gg_9 aaScale - Window size:17 Trimmed Average': -0.22668329710480067, 'gg_10 aaScale - Window size:17 MAXIMUM ': 0.2764144736842105, 'gg_10 aaScale - Window size:17 MINIMUM ': -1.780641447368421, 'gg_10 aaScale - Window size:17 Average-Trimmed MAX': -0.3626369743803954, 'gg_10 aaScale - Window size:17 Average-Trimmed MIN': -0.9206198656363132, 'gg_10 aaScale - Window size:17 Trimmed Average': -0.17662941679770602, 'gg_11 aaScale - Window size:17 MAXIMUM ': 0.46879934210526325, 'gg_11 aaScale - Window size:17 MINIMUM ': -1.8082730263157898, 'gg_11 aaScale - Window size:17 Average-Trimmed MAX': -0.16499989122110834, 'gg_11 aaScale - Window size:17 Average-Trimmed MIN': -0.819806112503481, 'gg_11 aaScale - Window size:17 Trimmed Average': 0.05325100013874757, 'Hydrophobicity Composition:1': 0.327, 'Hydrophobicity Composition:2': 0.427, 'Hydrophobicity Composition:3': 0.247, 'Hydrophobicity Transitions:12': 0.27, 'Hydrophobicity Transitions:13': 0.151, 'Hydrophobicity Transitions:23': 0.197, 'Hydrophobicity Distribution1001': 0.208, 'Hydrophobicity Distribution1025': 24.662, 'Hydrophobicity Distribution1050': 49.532, 'Hydrophobicity Distribution1075': 71.904, 'Hydrophobicity Distribution1100': 99.896, 'Hydrophobicity Distribution2001': 0.728, 'Hydrophobicity Distribution2025': 31.426, 'Hydrophobicity Distribution2050': 53.174, 'Hydrophobicity Distribution2075': 76.067, 'Hydrophobicity Distribution2100': 98.959, 'Hydrophobicity Distribution3001': 0.104, 'Hydrophobicity Distribution3025': 16.857, 'Hydrophobicity Distribution3050': 37.149, 'Hydrophobicity Distribution3075': 77.732, 'Hydrophobicity Distribution3100': 100.0, 'Normalized VDWV Composition:1': 0.456, 'Normalized VDWV Composition:2': 0.378, 'Normalized VDWV Composition:3': 0.166, 'Normalized VDWV Transitions:12': 0.325, 'Normalized VDWV Transitions:13': 0.138, 'Normalized VDWV Transitions:23': 0.114, 'Normalized VDWV Distribution1001': 0.624, 'Normalized VDWV Distribution1025': 29.969, 'Normalized VDWV Distribution1050': 54.214, 'Normalized VDWV Distribution1075': 78.044, 'Normalized VDWV Distribution1100': 99.896, 'Normalized VDWV Distribution2001': 1.041, 'Normalized VDWV Distribution2025': 23.205, 'Normalized VDWV Distribution2050': 50.156, 'Normalized VDWV Distribution2075': 73.881, 'Normalized VDWV Distribution2100': 100.0, 'Normalized VDWV Distribution3001': 0.104, 'Normalized VDWV Distribution3025': 18.106, 'Normalized VDWV Distribution3050': 32.882, 'Normalized VDWV Distribution3075': 66.701, 'Normalized VDWV Distribution3100': 98.855, 'Polarity Composition:1': 0.262, 'Polarity Composition:2': 0.395, 'Polarity Composition:3': 0.342, 'Polarity Transitions:12': 0.182, 'Polarity Transitions:13': 0.17, 'Polarity Transitions:23': 0.257, 'Polarity Distribution1001': 0.104, 'Polarity Distribution1025': 17.482, 'Polarity Distribution1050': 34.235, 'Polarity Distribution1075': 76.483, 'Polarity Distribution1100': 100.0, 'Polarity Distribution2001': 0.728, 'Polarity Distribution2025': 34.964, 'Polarity Distribution2050': 57.024, 'Polarity Distribution2075': 77.211, 'Polarity Distribution2100': 98.959, 'Polarity Distribution3001': 0.208, 'Polarity Distribution3025': 23.829, 'Polarity Distribution3050': 49.428, 'Polarity Distribution3075': 71.592, 'Polarity Distribution3100': 99.896, 'Charge Composition:1': 0.084, 'Charge Composition:2': 0.824, 'Charge Composition:3': 0.092, 'Charge Transitions:12': 0.128, 'Charge Transitions:13': 0.014, 'Charge Transitions:23': 0.147, 'Charge Distribution1001': 0.208, 'Charge Distribution1025': 18.522, 'Charge Distribution1050': 36.42, 'Charge Distribution1075': 67.742, 'Charge Distribution1100': 98.855, 'Charge Distribution2001': 0.104, 'Charge Distribution2025': 26.223, 'Charge Distribution2050': 50.572, 'Charge Distribution2075': 73.257, 'Charge Distribution2100': 100.0, 'Charge Distribution3001': 0.624, 'Charge Distribution3025': 21.644, 'Charge Distribution3050': 71.904, 'Charge Distribution3075': 85.952, 'Charge Distribution3100': 99.896, 'Secondary Str Composition:1': 0.444, 'Secondary Str Composition:2': 0.226, 'Secondary Str Composition:3': 0.33, 'Secondary Str Transitions:12': 0.186, 'Secondary Str Transitions:13': 0.259, 'Secondary Str Transitions:23': 0.153, 'Secondary Str Distribution1001': 0.104, 'Secondary Str Distribution1025': 29.553, 'Secondary Str Distribution1050': 51.405, 'Secondary Str Distribution1075': 70.76, 'Secondary Str Distribution1100': 100.0, 'Secondary Str Distribution2001': 0.416, 'Secondary Str Distribution2025': 18.626, 'Secondary Str Distribution2050': 37.149, 'Secondary Str Distribution2075': 71.384, 'Secondary Str Distribution2100': 99.792, 'Secondary Str Distribution3001': 0.624, 'Secondary Str Distribution3025': 27.575, 'Secondary Str Distribution3050': 54.214, 'Secondary Str Distribution3075': 80.229, 'Secondary Str Distribution3100': 99.896, 'Solvent Accessibility Composition:1': 0.383, 'Solvent Accessibility Composition:2': 0.327, 'Solvent Accessibility Composition:3': 0.29, 'Solvent Accessibility Transitions:12': 0.228, 'Solvent Accessibility Transitions:13': 0.221, 'Solvent Accessibility Transitions:23': 0.193, 'Solvent Accessibility Distribution1001': 0.416, 'Solvent Accessibility Distribution1025': 19.563, 'Solvent Accessibility Distribution1050': 47.138, 'Solvent Accessibility Distribution1075': 76.483, 'Solvent Accessibility Distribution1100': 100.0, 'Solvent Accessibility Distribution2001': 0.208, 'Solvent Accessibility Distribution2025': 24.662, 'Solvent Accessibility Distribution2050': 49.532, 'Solvent Accessibility Distribution2075': 71.904, 'Solvent Accessibility Distribution2100': 99.896, 'Solvent Accessibility Distribution3001': 0.104, 'Solvent Accessibility Distribution3025': 31.426, 'Solvent Accessibility Distribution3050': 52.758, 'Solvent Accessibility Distribution3075': 77.107, 'Solvent Accessibility Distribution3100': 98.959, 'Polarizability Composition:1': 0.344, 'Polarizability Composition:2': 0.489, 'Polarizability Composition:3': 0.166, 'Polarizability Transitions:12': 0.301, 'Polarizability Transitions:13': 0.107, 'Polarizability Transitions:23': 0.144, 'Polarizability Distribution1001': 0.624, 'Polarizability Distribution1025': 25.911, 'Polarizability Distribution1050': 58.377, 'Polarizability Distribution1075': 78.564, 'Polarizability Distribution1100': 99.896, 'Polarizability Distribution2001': 1.041, 'Polarizability Distribution2025': 27.68, 'Polarizability Distribution2050': 49.74, 'Polarizability Distribution2075': 73.465, 'Polarizability Distribution2100': 100.0, 'Polarizability Distribution3001': 0.104, 'Polarizability Distribution3025': 18.106, 'Polarizability Distribution3050': 32.882, 'Polarizability Distribution3075': 66.701, 'Polarizability Distribution3100': 98.855, 'Disorder Propensity Composition:1': 0.576, 'Disorder Propensity Composition:2': 0.283, 'Disorder Propensity Composition:3': 0.14, 'Disorder Propensity Transitions:12': 0.29, 'Disorder Propensity Transitions:13': 0.152, 'Disorder Propensity Transitions:23': 0.076, 'Disorder Propensity Distribution1001': 0.208, 'Disorder Propensity Distribution1025': 32.986, 'Disorder Propensity Distribution1050': 52.237, 'Disorder Propensity Distribution1075': 73.257, 'Disorder Propensity Distribution1100': 99.584, 'Disorder Propensity Distribution2001': 0.416, 'Disorder Propensity Distribution2025': 18.002, 'Disorder Propensity Distribution2050': 34.651, 'Disorder Propensity Distribution2075': 76.483, 'Disorder Propensity Distribution2100': 100.0, 'Disorder Propensity Distribution3001': 0.104, 'Disorder Propensity Distribution3025': 22.373, 'Disorder Propensity Distribution3050': 51.717, 'Disorder Propensity Distribution3075': 78.668, 'Disorder Propensity Distribution3100': 99.896, 'Potential N-Glycosylation Sites:Frequency': 0.62, 'Potential Hydroxylation Sites:Frequency': 0.0, 'Dibasic Cleavage: Total Known Motif counts': 11, 'Dibasic Cleavage: Known Motif frequency': 4.641350210970464, 'Dibasic Cleavage: Putative Cleavage Products': 0, 'SubSequence(segment-0)  aaScale:4hp Average': -0.19561128526645769, 'SubSequence(segment-0)  aaScale:4hp Maximum': 4.16, 'SubSequence(segment-0)  aaScale:4hp Minimum': -3.9, 'SubSequence(segment-1)  aaScale:4hp Average': -0.19561128526645769, 'SubSequence(segment-1)  aaScale:4hp Maximum': 4.16, 'SubSequence(segment-1)  aaScale:4hp Minimum': -3.9, 'SubSequence(segment-0)  aaScale:4hw Average': -0.03899686520376173, 'SubSequence(segment-0)  aaScale:4hw Maximum': 2.46, 'SubSequence(segment-0)  aaScale:4hw Minimum': -2.02, 'SubSequence(segment-1)  aaScale:4hw Average': -0.03899686520376173, 'SubSequence(segment-1)  aaScale:4hw Maximum': 2.46, 'SubSequence(segment-1)  aaScale:4hw Minimum': -2.02, 'SubSequence(segment-0)  aaScale:4sa Average': 0.9860614420062694, 'SubSequence(segment-0)  aaScale:4sa Maximum': 1.4376000000000002, 'SubSequence(segment-0)  aaScale:4sa Minimum': 0.5416000000000001, 'SubSequence(segment-1)  aaScale:4sa Average': 0.9860614420062694, 'SubSequence(segment-1)  aaScale:4sa Maximum': 1.4376000000000002, 'SubSequence(segment-1)  aaScale:4sa Minimum': 0.5416000000000001, 'SubSequence(segment-0)  aaScale:4TOP_IDP Average': 0.046752978056426336, 'SubSequence(segment-0)  aaScale:4TOP_IDP Maximum': 0.669, 'SubSequence(segment-0)  aaScale:4TOP_IDP Minimum': -0.4654, 'SubSequence(segment-1)  aaScale:4TOP_IDP Average': 0.046752978056426336, 'SubSequence(segment-1)  aaScale:4TOP_IDP Maximum': 0.669, 'SubSequence(segment-1)  aaScale:4TOP_IDP Minimum': -0.4654, 'SubSequence(segment-0)  aaScale:4Atch_1 Average': 0.8956150470219436, 'SubSequence(segment-0)  aaScale:4Atch_1 Maximum': 1.6178000000000001, 'SubSequence(segment-0)  aaScale:4Atch_1 Minimum': 0.18080000000000002, 'SubSequence(segment-1)  aaScale:4Atch_1 Average': 0.8956150470219436, 'SubSequence(segment-1)  aaScale:4Atch_1 Maximum': 1.6178000000000001, 'SubSequence(segment-1)  aaScale:4Atch_1 Minimum': 0.18080000000000002, 'SubSequence(segment-0)  aaScale:4Atch_2 Average': 0.8249818181818181, 'SubSequence(segment-0)  aaScale:4Atch_2 Maximum': 1.652, 'SubSequence(segment-0)  aaScale:4Atch_2 Minimum': 0.1742, 'SubSequence(segment-1)  aaScale:4Atch_2 Average': 0.8249818181818181, 'SubSequence(segment-1)  aaScale:4Atch_2 Maximum': 1.652, 'SubSequence(segment-1)  aaScale:4Atch_2 Minimum': 0.1742, 'SubSequence(segment-0)  aaScale:4Atch_3 Average': 1.9018495297805644, 'SubSequence(segment-0)  aaScale:4Atch_3 Maximum': 4.074, 'SubSequence(segment-0)  aaScale:4Atch_3 Minimum': 0.7706000000000001, 'SubSequence(segment-1)  aaScale:4Atch_3 Average': 1.9018495297805644, 'SubSequence(segment-1)  aaScale:4Atch_3 Maximum': 4.074, 'SubSequence(segment-1)  aaScale:4Atch_3 Minimum': 0.7706000000000001, 'SubSequence(segment-0)  aaScale:4Atch_4 Average': 0.7370382445141066, 'SubSequence(segment-0)  aaScale:4Atch_4 Maximum': 1.455, 'SubSequence(segment-0)  aaScale:4Atch_4 Minimum': 0.1982, 'SubSequence(segment-1)  aaScale:4Atch_4 Average': 0.7370382445141066, 'SubSequence(segment-1)  aaScale:4Atch_4 Maximum': 1.455, 'SubSequence(segment-1)  aaScale:4Atch_4 Minimum': 0.1982, 'SubSequence(segment-0)  aaScale:4Atch_5 Average': 1.4514971786833857, 'SubSequence(segment-0)  aaScale:4Atch_5 Maximum': 2.916, 'SubSequence(segment-0)  aaScale:4Atch_5 Minimum': 0.44079999999999997, 'SubSequence(segment-1)  aaScale:4Atch_5 Average': 1.4514971786833857, 'SubSequence(segment-1)  aaScale:4Atch_5 Maximum': 2.916, 'SubSequence(segment-1)  aaScale:4Atch_5 Minimum': 0.44079999999999997, 'ofer14:  Mirror K-mer : AA': 1.15, 'ofer14:  Mirror K-mer : AC': 0.1, 'ofer14:  Mirror K-mer : AD': 0.52, 'ofer14:  Mirror K-mer : AE': 1.04, 'ofer14:  Mirror K-mer : AF': 0.52, 'ofer14:  Mirror K-mer : AG': 0.62, 'ofer14:  Mirror K-mer : AH': 0.0, 'ofer14:  Mirror K-mer : AI': 2.92, 'ofer14:  Mirror K-mer : AK': 1.67, 'ofer14:  Mirror K-mer : AN': 0.1, 'ofer14:  Mirror K-mer : AP': 2.39, 'ofer14:  Mirror K-mer : AQ': 1.98, 'ofer14:  Mirror K-mer : AS': 2.19, 'ofer14:  Mirror K-mer : AW': 0.1, 'ofer14:  Mirror K-mer : CC': 0.0, 'ofer14:  Mirror K-mer : CD': 0.41000000000000003, 'ofer14:  Mirror K-mer : CE': 0.2, 'ofer14:  Mirror K-mer : CF': 0.31, 'ofer14:  Mirror K-mer : CG': 0.1, 'ofer14:  Mirror K-mer : CH': 0.1, 'ofer14:  Mirror K-mer : CI': 0.63, 'ofer14:  Mirror K-mer : CK': 0.41000000000000003, 'ofer14:  Mirror K-mer : CN': 0.0, 'ofer14:  Mirror K-mer : CP': 0.1, 'ofer14:  Mirror K-mer : CQ': 0.1, 'ofer14:  Mirror K-mer : CS': 0.2, 'ofer14:  Mirror K-mer : CW': 0.0, 'ofer14:  Mirror K-mer : DD': 0.21, 'ofer14:  Mirror K-mer : DE': 0.73, 'ofer14:  Mirror K-mer : DF': 0.73, 'ofer14:  Mirror K-mer : DG': 0.31, 'ofer14:  Mirror K-mer : DH': 0.21, 'ofer14:  Mirror K-mer : DI': 2.08, 'ofer14:  Mirror K-mer : DK': 0.62, 'ofer14:  Mirror K-mer : DN': 0.21, 'ofer14:  Mirror K-mer : DP': 1.25, 'ofer14:  Mirror K-mer : DQ': 0.2, 'ofer14:  Mirror K-mer : DS': 1.66, 'ofer14:  Mirror K-mer : DW': 0.0, 'ofer14:  Mirror K-mer : EE': 0.21, 'ofer14:  Mirror K-mer : EF': 0.21, 'ofer14:  Mirror K-mer : EG': 0.9299999999999999, 'ofer14:  Mirror K-mer : EH': 0.1, 'ofer14:  Mirror K-mer : EI': 1.56, 'ofer14:  Mirror K-mer : EK': 0.73, 'ofer14:  Mirror K-mer : EN': 0.42, 'ofer14:  Mirror K-mer : EP': 0.94, 'ofer14:  Mirror K-mer : EQ': 0.2, 'ofer14:  Mirror K-mer : ES': 1.35, 'ofer14:  Mirror K-mer : EW': 0.1, 'ofer14:  Mirror K-mer : FF': 0.52, 'ofer14:  Mirror K-mer : FG': 1.1400000000000001, 'ofer14:  Mirror K-mer : FH': 0.1, 'ofer14:  Mirror K-mer : FI': 1.87, 'ofer14:  Mirror K-mer : FK': 0.8300000000000001, 'ofer14:  Mirror K-mer : FN': 0.41000000000000003, 'ofer14:  Mirror K-mer : FP': 0.52, 'ofer14:  Mirror K-mer : FQ': 0.83, 'ofer14:  Mirror K-mer : FS': 1.46, 'ofer14:  Mirror K-mer : FW': 0.0, 'ofer14:  Mirror K-mer : GG': 1.04, 'ofer14:  Mirror K-mer : GH': 0.42, 'ofer14:  Mirror K-mer : GI': 2.19, 'ofer14:  Mirror K-mer : GK': 0.73, 'ofer14:  Mirror K-mer : GN': 0.2, 'ofer14:  Mirror K-mer : GP': 0.42, 'ofer14:  Mirror K-mer : GQ': 1.1400000000000001, 'ofer14:  Mirror K-mer : GS': 3.23, 'ofer14:  Mirror K-mer : GW': 0.0, 'ofer14:  Mirror K-mer : HH': 0.0, 'ofer14:  Mirror K-mer : HI': 0.73, 'ofer14:  Mirror K-mer : HK': 0.52, 'ofer14:  Mirror K-mer : HN': 0.0, 'ofer14:  Mirror K-mer : HP': 0.21, 'ofer14:  Mirror K-mer : HQ': 0.41000000000000003, 'ofer14:  Mirror K-mer : HS': 0.31, 'ofer14:  Mirror K-mer : HW': 0.0, 'ofer14:  Mirror K-mer : II': 5.0, 'ofer14:  Mirror K-mer : IK': 3.33, 'ofer14:  Mirror K-mer : IN': 1.77, 'ofer14:  Mirror K-mer : IP': 4.07, 'ofer14:  Mirror K-mer : IQ': 2.92, 'ofer14:  Mirror K-mer : IS': 4.6899999999999995, 'ofer14:  Mirror K-mer : IW': 0.21, 'ofer14:  Mirror K-mer : KK': 1.35, 'ofer14:  Mirror K-mer : KN': 0.73, 'ofer14:  Mirror K-mer : KP': 1.35, 'ofer14:  Mirror K-mer : KQ': 1.25, 'ofer14:  Mirror K-mer : KS': 1.98, 'ofer14:  Mirror K-mer : KW': 0.0, 'ofer14:  Mirror K-mer : NN': 0.21, 'ofer14:  Mirror K-mer : NP': 0.9299999999999999, 'ofer14:  Mirror K-mer : NQ': 0.63, 'ofer14:  Mirror K-mer : NS': 0.9299999999999999, 'ofer14:  Mirror K-mer : NW': 0.1, 'ofer14:  Mirror K-mer : PP': 1.04, 'ofer14:  Mirror K-mer : PQ': 2.91, 'ofer14:  Mirror K-mer : PS': 2.4, 'ofer14:  Mirror K-mer : PW': 0.0, 'ofer14:  Mirror K-mer : QQ': 3.96, 'ofer14:  Mirror K-mer : QS': 2.81, 'ofer14:  Mirror K-mer : QW': 0.0, 'ofer14:  Mirror K-mer : SS': 3.12, 'ofer14:  Mirror K-mer : SW': 0.1, 'ofer14:  Mirror K-mer : WW': 0.0, 'ofer_w8: AA: M Frequency': 6.972, 'ofer_w8: AA: K Frequency': 8.429, 'ofer_w8: AA: F Frequency': 16.337, 'ofer_w8: AA: D Frequency': 9.157, 'ofer_w8: AA: N Frequency': 23.413, 'ofer_w8: AA: G Frequency': 16.545, 'ofer_w8: AA: A Frequency': 16.233, 'ofer_w8: AA: C Frequency': 2.914, 'ofer_w8: M Entropy': 3.8423034303159778, 'ofer_w8: K Entropy': 3.5685426178891255, 'ofer_w8: F Entropy': 2.6137718718821232, 'ofer_w8: D Entropy': 3.448961002136453, 'ofer_w8: N Entropy': 2.0946114295567133, 'ofer_w8: G Entropy': 2.595509665489395, 'ofer_w8: A Entropy': 2.622990401911502, 'ofer_w8: C Entropy': 5.101037698716146, 'ofer_w8: Total Entropy': 2.805771280623321, 'hp2: AAAAA': 26.98, 'hp2: AAAAC': 6.77, 'hp2: AAACA': 6.25, 'hp2: AAACC': 3.23, 'hp2: AACAA': 7.19, 'hp2: AACAC': 1.67, 'hp2: AACCA': 3.54, 'hp2: AACCC': 0.62, 'hp2: ACAAA': 6.77, 'hp2: ACAAC': 2.08, 'hp2: ACACA': 1.15, 'hp2: ACACC': 1.25, 'hp2: ACCAA': 3.12, 'hp2: ACCAC': 1.67, 'hp2: ACCCA': 0.83, 'hp2: ACCCC': 0.62, 'hp2: CAAAA': 6.77, 'hp2: CAAAC': 2.71, 'hp2: CAACA': 2.6, 'hp2: CAACC': 0.94, 'hp2: CACAA': 1.67, 'hp2: CACAC': 0.73, 'hp2: CACCA': 1.25, 'hp2: CACCC': 0.83, 'hp2: CCAAA': 2.71, 'hp2: CCAAC': 1.35, 'hp2: CCACA': 1.25, 'hp2: CCACC': 0.83, 'hp2: CCCAA': 0.94, 'hp2: CCCAC': 0.52, 'hp2: CCCCA': 0.62, 'hp2: CCCCC': 0.21, 'SolventA_3:  Mirror K-mer : AAAAA': 1.15, 'SolventA_3:  Mirror K-mer : AAAAD': 1.1400000000000001, 'SolventA_3:  Mirror K-mer : AAAAH': 0.94, 'SolventA_3:  Mirror K-mer : AAADA': 1.56, 'SolventA_3:  Mirror K-mer : AAADD': 1.45, 'SolventA_3:  Mirror K-mer : AAADH': 0.94, 'SolventA_3:  Mirror K-mer : AAAHA': 0.94, 'SolventA_3:  Mirror K-mer : AAAHD': 1.1400000000000001, 'SolventA_3:  Mirror K-mer : AAAHH': 1.04, 'SolventA_3:  Mirror K-mer : AADAA': 1.15, 'SolventA_3:  Mirror K-mer : AADAD': 0.9299999999999999, 'SolventA_3:  Mirror K-mer : AADAH': 1.15, 'SolventA_3:  Mirror K-mer : AADDA': 0.9299999999999999, 'SolventA_3:  Mirror K-mer : AADDD': 1.56, 'SolventA_3:  Mirror K-mer : AADDH': 1.25, 'SolventA_3:  Mirror K-mer : AADHA': 1.25, 'SolventA_3:  Mirror K-mer : AADHD': 0.8300000000000001, 'SolventA_3:  Mirror K-mer : AADHH': 0.94, 'SolventA_3:  Mirror K-mer : AAHAA': 0.62, 'SolventA_3:  Mirror K-mer : AAHAD': 0.83, 'SolventA_3:  Mirror K-mer : AAHAH': 1.46, 'SolventA_3:  Mirror K-mer : AAHDA': 1.1400000000000001, 'SolventA_3:  Mirror K-mer : AAHDD': 1.45, 'SolventA_3:  Mirror K-mer : AAHDH': 0.63, 'SolventA_3:  Mirror K-mer : AAHHA': 0.52, 'SolventA_3:  Mirror K-mer : AAHHD': 0.84, 'SolventA_3:  Mirror K-mer : AAHHH': 0.84, 'SolventA_3:  Mirror K-mer : ADAAD': 1.98, 'SolventA_3:  Mirror K-mer : ADAAH': 0.94, 'SolventA_3:  Mirror K-mer : ADADA': 0.21, 'SolventA_3:  Mirror K-mer : ADADD': 0.63, 'SolventA_3:  Mirror K-mer : ADADH': 0.62, 'SolventA_3:  Mirror K-mer : ADAHA': 0.94, 'SolventA_3:  Mirror K-mer : ADAHD': 1.14, 'SolventA_3:  Mirror K-mer : ADAHH': 0.42, 'SolventA_3:  Mirror K-mer : ADDAD': 0.31, 'SolventA_3:  Mirror K-mer : ADDAH': 0.41000000000000003, 'SolventA_3:  Mirror K-mer : ADDDA': 0.62, 'SolventA_3:  Mirror K-mer : ADDDD': 0.8300000000000001, 'SolventA_3:  Mirror K-mer : ADDDH': 1.15, 'SolventA_3:  Mirror K-mer : ADDHA': 1.35, 'SolventA_3:  Mirror K-mer : ADDHD': 0.83, 'SolventA_3:  Mirror K-mer : ADDHH': 0.42, 'SolventA_3:  Mirror K-mer : ADHAD': 1.04, 'SolventA_3:  Mirror K-mer : ADHAH': 0.41000000000000003, 'SolventA_3:  Mirror K-mer : ADHDA': 0.1, 'SolventA_3:  Mirror K-mer : ADHDD': 0.94, 'SolventA_3:  Mirror K-mer : ADHDH': 0.63, 'SolventA_3:  Mirror K-mer : ADHHA': 0.63, 'SolventA_3:  Mirror K-mer : ADHHD': 0.84, 'SolventA_3:  Mirror K-mer : ADHHH': 0.63, 'SolventA_3:  Mirror K-mer : AHAAD': 1.25, 'SolventA_3:  Mirror K-mer : AHAAH': 1.35, 'SolventA_3:  Mirror K-mer : AHADD': 1.15, 'SolventA_3:  Mirror K-mer : AHADH': 0.52, 'SolventA_3:  Mirror K-mer : AHAHA': 0.42, 'SolventA_3:  Mirror K-mer : AHAHD': 1.25, 'SolventA_3:  Mirror K-mer : AHAHH': 0.52, 'SolventA_3:  Mirror K-mer : AHDAD': 0.42, 'SolventA_3:  Mirror K-mer : AHDAH': 0.94, 'SolventA_3:  Mirror K-mer : AHDDD': 0.83, 'SolventA_3:  Mirror K-mer : AHDDH': 0.52, 'SolventA_3:  Mirror K-mer : AHDHA': 0.52, 'SolventA_3:  Mirror K-mer : AHDHD': 0.73, 'SolventA_3:  Mirror K-mer : AHDHH': 0.52, 'SolventA_3:  Mirror K-mer : AHHAD': 0.8300000000000001, 'SolventA_3:  Mirror K-mer : AHHAH': 0.31, 'SolventA_3:  Mirror K-mer : AHHDD': 0.8300000000000001, 'SolventA_3:  Mirror K-mer : AHHDH': 0.73, 'SolventA_3:  Mirror K-mer : AHHHA': 0.31, 'SolventA_3:  Mirror K-mer : AHHHD': 0.73, 'SolventA_3:  Mirror K-mer : AHHHH': 0.52, 'SolventA_3:  Mirror K-mer : DAAAD': 0.94, 'SolventA_3:  Mirror K-mer : DAAAH': 0.94, 'SolventA_3:  Mirror K-mer : DAADD': 1.56, 'SolventA_3:  Mirror K-mer : DAADH': 1.25, 'SolventA_3:  Mirror K-mer : DAAHD': 0.62, 'SolventA_3:  Mirror K-mer : DAAHH': 0.62, 'SolventA_3:  Mirror K-mer : DADAD': 0.1, 'SolventA_3:  Mirror K-mer : DADAH': 0.52, 'SolventA_3:  Mirror K-mer : DADDD': 0.52, 'SolventA_3:  Mirror K-mer : DADDH': 0.73, 'SolventA_3:  Mirror K-mer : DADHD': 0.52, 'SolventA_3:  Mirror K-mer : DADHH': 0.62, 'SolventA_3:  Mirror K-mer : DAHAD': 0.52, 'SolventA_3:  Mirror K-mer : DAHAH': 0.73, 'SolventA_3:  Mirror K-mer : DAHDD': 0.62, 'SolventA_3:  Mirror K-mer : DAHDH': 0.63, 'SolventA_3:  Mirror K-mer : DAHHD': 0.52, 'SolventA_3:  Mirror K-mer : DAHHH': 0.41000000000000003, 'SolventA_3:  Mirror K-mer : DDAAH': 0.72, 'SolventA_3:  Mirror K-mer : DDADD': 0.21, 'SolventA_3:  Mirror K-mer : DDADH': 0.52, 'SolventA_3:  Mirror K-mer : DDAHD': 0.52, 'SolventA_3:  Mirror K-mer : DDAHH': 0.63, 'SolventA_3:  Mirror K-mer : DDDAH': 1.15, 'SolventA_3:  Mirror K-mer : DDDDD': 1.46, 'SolventA_3:  Mirror K-mer : DDDDH': 0.41000000000000003, 'SolventA_3:  Mirror K-mer : DDDHD': 0.73, 'SolventA_3:  Mirror K-mer : DDDHH': 0.42, 'SolventA_3:  Mirror K-mer : DDHAH': 0.62, 'SolventA_3:  Mirror K-mer : DDHDD': 0.0, 'SolventA_3:  Mirror K-mer : DDHDH': 0.9299999999999999, 'SolventA_3:  Mirror K-mer : DDHHD': 0.31, 'SolventA_3:  Mirror K-mer : DDHHH': 0.52, 'SolventA_3:  Mirror K-mer : DHAAH': 1.45, 'SolventA_3:  Mirror K-mer : DHADH': 0.62, 'SolventA_3:  Mirror K-mer : DHAHD': 0.1, 'SolventA_3:  Mirror K-mer : DHAHH': 0.62, 'SolventA_3:  Mirror K-mer : DHDAH': 0.41000000000000003, 'SolventA_3:  Mirror K-mer : DHDDH': 0.31, 'SolventA_3:  Mirror K-mer : DHDHD': 0.62, 'SolventA_3:  Mirror K-mer : DHDHH': 0.41000000000000003, 'SolventA_3:  Mirror K-mer : DHHAH': 0.84, 'SolventA_3:  Mirror K-mer : DHHDH': 0.52, 'SolventA_3:  Mirror K-mer : DHHHD': 0.21, 'SolventA_3:  Mirror K-mer : DHHHH': 0.52, 'SolventA_3:  Mirror K-mer : HAAAH': 0.62, 'SolventA_3:  Mirror K-mer : HAADH': 0.8300000000000001, 'SolventA_3:  Mirror K-mer : HAAHH': 0.52, 'SolventA_3:  Mirror K-mer : HADAH': 0.42, 'SolventA_3:  Mirror K-mer : HADDH': 0.73, 'SolventA_3:  Mirror K-mer : HADHH': 0.52, 'SolventA_3:  Mirror K-mer : HAHAH': 0.21, 'SolventA_3:  Mirror K-mer : HAHDH': 1.04, 'SolventA_3:  Mirror K-mer : HAHHH': 0.62, 'SolventA_3:  Mirror K-mer : HDADH': 0.21, 'SolventA_3:  Mirror K-mer : HDAHH': 0.73, 'SolventA_3:  Mirror K-mer : HDDDH': 0.21, 'SolventA_3:  Mirror K-mer : HDDHH': 0.8300000000000001, 'SolventA_3:  Mirror K-mer : HDHDH': 0.42, 'SolventA_3:  Mirror K-mer : HDHHH': 0.52, 'SolventA_3:  Mirror K-mer : HHAHH': 0.31, 'SolventA_3:  Mirror K-mer : HHDHH': 0.42, 'SolventA_3:  Mirror K-mer : HHHHH': 0.42, 'Disorder_3:  Mirror K-mer : AAAAA': 12.08, 'Disorder_3:  Mirror K-mer : AAAAC': 5.0, 'Disorder_3:  Mirror K-mer : AAAAD': 3.75, 'Disorder_3:  Mirror K-mer : AAACA': 5.21, 'Disorder_3:  Mirror K-mer : AAACC': 2.71, 'Disorder_3:  Mirror K-mer : AAACD': 0.9299999999999999, 'Disorder_3:  Mirror K-mer : AAADA': 3.02, 'Disorder_3:  Mirror K-mer : AAADC': 1.56, 'Disorder_3:  Mirror K-mer : AAADD': 0.73, 'Disorder_3:  Mirror K-mer : AACAA': 2.92, 'Disorder_3:  Mirror K-mer : AACAC': 1.67, 'Disorder_3:  Mirror K-mer : AACAD': 1.04, 'Disorder_3:  Mirror K-mer : AACCA': 2.5, 'Disorder_3:  Mirror K-mer : AACCC': 1.24, 'Disorder_3:  Mirror K-mer : AACCD': 0.63, 'Disorder_3:  Mirror K-mer : AACDA': 1.25, 'Disorder_3:  Mirror K-mer : AACDC': 0.63, 'Disorder_3:  Mirror K-mer : AACDD': 0.41000000000000003, 'Disorder_3:  Mirror K-mer : AADAA': 2.08, 'Disorder_3:  Mirror K-mer : AADAC': 0.9299999999999999, 'Disorder_3:  Mirror K-mer : AADAD': 0.31, 'Disorder_3:  Mirror K-mer : AADCA': 1.04, 'Disorder_3:  Mirror K-mer : AADCC': 1.04, 'Disorder_3:  Mirror K-mer : AADCD': 0.2, 'Disorder_3:  Mirror K-mer : AADDA': 0.42, 'Disorder_3:  Mirror K-mer : AADDC': 0.42, 'Disorder_3:  Mirror K-mer : AADDD': 0.31, 'Disorder_3:  Mirror K-mer : ACAAC': 1.98, 'Disorder_3:  Mirror K-mer : ACAAD': 1.35, 'Disorder_3:  Mirror K-mer : ACACA': 0.42, 'Disorder_3:  Mirror K-mer : ACACC': 2.4, 'Disorder_3:  Mirror K-mer : ACACD': 0.62, 'Disorder_3:  Mirror K-mer : ACADA': 1.46, 'Disorder_3:  Mirror K-mer : ACADC': 0.52, 'Disorder_3:  Mirror K-mer : ACADD': 0.8300000000000001, 'Disorder_3:  Mirror K-mer : ACCAC': 1.98, 'Disorder_3:  Mirror K-mer : ACCAD': 0.52, 'Disorder_3:  Mirror K-mer : ACCCA': 0.62, 'Disorder_3:  Mirror K-mer : ACCCC': 1.56, 'Disorder_3:  Mirror K-mer : ACCCD': 0.31, 'Disorder_3:  Mirror K-mer : ACCDA': 1.04, 'Disorder_3:  Mirror K-mer : ACCDC': 0.31, 'Disorder_3:  Mirror K-mer : ACCDD': 0.41000000000000003, 'Disorder_3:  Mirror K-mer : ACDAC': 0.73, 'Disorder_3:  Mirror K-mer : ACDAD': 0.31, 'Disorder_3:  Mirror K-mer : ACDCA': 0.21, 'Disorder_3:  Mirror K-mer : ACDCC': 0.52, 'Disorder_3:  Mirror K-mer : ACDCD': 0.1, 'Disorder_3:  Mirror K-mer : ACDDA': 0.31, 'Disorder_3:  Mirror K-mer : ACDDC': 0.31, 'Disorder_3:  Mirror K-mer : ACDDD': 0.1, 'Disorder_3:  Mirror K-mer : ADAAC': 1.56, 'Disorder_3:  Mirror K-mer : ADAAD': 0.8300000000000001, 'Disorder_3:  Mirror K-mer : ADACC': 0.83, 'Disorder_3:  Mirror K-mer : ADACD': 0.31, 'Disorder_3:  Mirror K-mer : ADADA': 0.21, 'Disorder_3:  Mirror K-mer : ADADC': 0.0, 'Disorder_3:  Mirror K-mer : ADADD': 0.1, 'Disorder_3:  Mirror K-mer : ADCAC': 0.41000000000000003, 'Disorder_3:  Mirror K-mer : ADCAD': 0.42, 'Disorder_3:  Mirror K-mer : ADCCC': 0.52, 'Disorder_3:  Mirror K-mer : ADCCD': 0.0, 'Disorder_3:  Mirror K-mer : ADCDA': 0.1, 'Disorder_3:  Mirror K-mer : ADCDC': 0.1, 'Disorder_3:  Mirror K-mer : ADCDD': 0.1, 'Disorder_3:  Mirror K-mer : ADDAC': 0.73, 'Disorder_3:  Mirror K-mer : ADDAD': 0.1, 'Disorder_3:  Mirror K-mer : ADDCC': 0.21, 'Disorder_3:  Mirror K-mer : ADDCD': 0.1, 'Disorder_3:  Mirror K-mer : ADDDA': 0.21, 'Disorder_3:  Mirror K-mer : ADDDC': 0.21, 'Disorder_3:  Mirror K-mer : ADDDD': 0.0, 'Disorder_3:  Mirror K-mer : CAAAC': 1.35, 'Disorder_3:  Mirror K-mer : CAAAD': 1.1400000000000001, 'Disorder_3:  Mirror K-mer : CAACC': 1.14, 'Disorder_3:  Mirror K-mer : CAACD': 1.04, 'Disorder_3:  Mirror K-mer : CAADC': 0.31, 'Disorder_3:  Mirror K-mer : CAADD': 0.2, 'Disorder_3:  Mirror K-mer : CACAC': 0.73, 'Disorder_3:  Mirror K-mer : CACAD': 0.73, 'Disorder_3:  Mirror K-mer : CACCC': 1.04, 'Disorder_3:  Mirror K-mer : CACCD': 0.63, 'Disorder_3:  Mirror K-mer : CACDC': 0.31, 'Disorder_3:  Mirror K-mer : CACDD': 0.31, 'Disorder_3:  Mirror K-mer : CADAC': 0.73, 'Disorder_3:  Mirror K-mer : CADAD': 0.21, 'Disorder_3:  Mirror K-mer : CADCC': 0.41000000000000003, 'Disorder_3:  Mirror K-mer : CADCD': 0.2, 'Disorder_3:  Mirror K-mer : CADDC': 0.2, 'Disorder_3:  Mirror K-mer : CADDD': 0.31, 'Disorder_3:  Mirror K-mer : CCAAD': 0.52, 'Disorder_3:  Mirror K-mer : CCACC': 0.42, 'Disorder_3:  Mirror K-mer : CCACD': 0.42, 'Disorder_3:  Mirror K-mer : CCADC': 0.73, 'Disorder_3:  Mirror K-mer : CCADD': 0.31, 'Disorder_3:  Mirror K-mer : CCCAD': 0.84, 'Disorder_3:  Mirror K-mer : CCCCC': 0.1, 'Disorder_3:  Mirror K-mer : CCCCD': 0.9299999999999999, 'Disorder_3:  Mirror K-mer : CCCDC': 0.31, 'Disorder_3:  Mirror K-mer : CCCDD': 0.41000000000000003, 'Disorder_3:  Mirror K-mer : CCDAD': 0.1, 'Disorder_3:  Mirror K-mer : CCDCC': 0.0, 'Disorder_3:  Mirror K-mer : CCDCD': 0.0, 'Disorder_3:  Mirror K-mer : CCDDC': 0.31, 'Disorder_3:  Mirror K-mer : CCDDD': 0.31, 'Disorder_3:  Mirror K-mer : CDAAD': 0.42, 'Disorder_3:  Mirror K-mer : CDACD': 0.1, 'Disorder_3:  Mirror K-mer : CDADC': 0.21, 'Disorder_3:  Mirror K-mer : CDADD': 0.0, 'Disorder_3:  Mirror K-mer : CDCAD': 0.1, 'Disorder_3:  Mirror K-mer : CDCCD': 0.0, 'Disorder_3:  Mirror K-mer : CDCDC': 0.0, 'Disorder_3:  Mirror K-mer : CDCDD': 0.0, 'Disorder_3:  Mirror K-mer : CDDAD': 0.0, 'Disorder_3:  Mirror K-mer : CDDCD': 0.0, 'Disorder_3:  Mirror K-mer : CDDDC': 0.1, 'Disorder_3:  Mirror K-mer : CDDDD': 0.0, 'Disorder_3:  Mirror K-mer : DAAAD': 0.21, 'Disorder_3:  Mirror K-mer : DAACD': 0.31, 'Disorder_3:  Mirror K-mer : DAADD': 0.21, 'Disorder_3:  Mirror K-mer : DACAD': 0.52, 'Disorder_3:  Mirror K-mer : DACCD': 0.52, 'Disorder_3:  Mirror K-mer : DACDD': 0.0, 'Disorder_3:  Mirror K-mer : DADAD': 0.0, 'Disorder_3:  Mirror K-mer : DADCD': 0.0, 'Disorder_3:  Mirror K-mer : DADDD': 0.0, 'Disorder_3:  Mirror K-mer : DCACD': 0.0, 'Disorder_3:  Mirror K-mer : DCADD': 0.1, 'Disorder_3:  Mirror K-mer : DCCCD': 0.0, 'Disorder_3:  Mirror K-mer : DCCDD': 0.0, 'Disorder_3:  Mirror K-mer : DCDCD': 0.0, 'Disorder_3:  Mirror K-mer : DCDDD': 0.0, 'Disorder_3:  Mirror K-mer : DDADD': 0.0, 'Disorder_3:  Mirror K-mer : DDCDD': 0.0, 'Disorder_3:  Mirror K-mer : DDDDD': 0.0, 'SecondaryStr_3:  Mirror K-mer : AAAAA': 4.9, 'SecondaryStr_3:  Mirror K-mer : AAAAC': 2.7, 'SecondaryStr_3:  Mirror K-mer : AAAAD': 2.08, 'SecondaryStr_3:  Mirror K-mer : AAACA': 2.08, 'SecondaryStr_3:  Mirror K-mer : AAACC': 0.84, 'SecondaryStr_3:  Mirror K-mer : AAACD': 1.46, 'SecondaryStr_3:  Mirror K-mer : AAADA': 2.71, 'SecondaryStr_3:  Mirror K-mer : AAADC': 1.15, 'SecondaryStr_3:  Mirror K-mer : AAADD': 1.6600000000000001, 'SecondaryStr_3:  Mirror K-mer : AACAA': 0.94, 'SecondaryStr_3:  Mirror K-mer : AACAC': 0.62, 'SecondaryStr_3:  Mirror K-mer : AACAD': 1.56, 'SecondaryStr_3:  Mirror K-mer : AACCA': 0.42, 'SecondaryStr_3:  Mirror K-mer : AACCC': 0.63, 'SecondaryStr_3:  Mirror K-mer : AACCD': 0.63, 'SecondaryStr_3:  Mirror K-mer : AACDA': 1.56, 'SecondaryStr_3:  Mirror K-mer : AACDC': 0.41000000000000003, 'SecondaryStr_3:  Mirror K-mer : AACDD': 0.52, 'SecondaryStr_3:  Mirror K-mer : AADAA': 1.15, 'SecondaryStr_3:  Mirror K-mer : AADAC': 1.25, 'SecondaryStr_3:  Mirror K-mer : AADAD': 1.87, 'SecondaryStr_3:  Mirror K-mer : AADCA': 0.84, 'SecondaryStr_3:  Mirror K-mer : AADCC': 0.8300000000000001, 'SecondaryStr_3:  Mirror K-mer : AADCD': 1.04, 'SecondaryStr_3:  Mirror K-mer : AADDA': 0.8300000000000001, 'SecondaryStr_3:  Mirror K-mer : AADDC': 0.73, 'SecondaryStr_3:  Mirror K-mer : AADDD': 1.56, 'SecondaryStr_3:  Mirror K-mer : ACAAC': 1.04, 'SecondaryStr_3:  Mirror K-mer : ACAAD': 0.94, 'SecondaryStr_3:  Mirror K-mer : ACACA': 0.42, 'SecondaryStr_3:  Mirror K-mer : ACACC': 0.52, 'SecondaryStr_3:  Mirror K-mer : ACACD': 0.31, 'SecondaryStr_3:  Mirror K-mer : ACADA': 1.56, 'SecondaryStr_3:  Mirror K-mer : ACADC': 0.73, 'SecondaryStr_3:  Mirror K-mer : ACADD': 0.9299999999999999, 'SecondaryStr_3:  Mirror K-mer : ACCAC': 0.2, 'SecondaryStr_3:  Mirror K-mer : ACCAD': 0.42, 'SecondaryStr_3:  Mirror K-mer : ACCCA': 0.21, 'SecondaryStr_3:  Mirror K-mer : ACCCC': 0.42, 'SecondaryStr_3:  Mirror K-mer : ACCCD': 0.41000000000000003, 'SecondaryStr_3:  Mirror K-mer : ACCDA': 0.41000000000000003, 'SecondaryStr_3:  Mirror K-mer : ACCDC': 0.73, 'SecondaryStr_3:  Mirror K-mer : ACCDD': 0.8300000000000001, 'SecondaryStr_3:  Mirror K-mer : ACDAC': 0.73, 'SecondaryStr_3:  Mirror K-mer : ACDAD': 0.8300000000000001, 'SecondaryStr_3:  Mirror K-mer : ACDCA': 0.1, 'SecondaryStr_3:  Mirror K-mer : ACDCC': 0.52, 'SecondaryStr_3:  Mirror K-mer : ACDCD': 0.31, 'SecondaryStr_3:  Mirror K-mer : ACDDA': 0.62, 'SecondaryStr_3:  Mirror K-mer : ACDDC': 0.9299999999999999, 'SecondaryStr_3:  Mirror K-mer : ACDDD': 0.31, 'SecondaryStr_3:  Mirror K-mer : ADAAC': 1.24, 'SecondaryStr_3:  Mirror K-mer : ADAAD': 1.46, 'SecondaryStr_3:  Mirror K-mer : ADACC': 0.52, 'SecondaryStr_3:  Mirror K-mer : ADACD': 0.63, 'SecondaryStr_3:  Mirror K-mer : ADADA': 1.25, 'SecondaryStr_3:  Mirror K-mer : ADADC': 0.84, 'SecondaryStr_3:  Mirror K-mer : ADADD': 0.63, 'SecondaryStr_3:  Mirror K-mer : ADCAC': 0.31, 'SecondaryStr_3:  Mirror K-mer : ADCAD': 0.63, 'SecondaryStr_3:  Mirror K-mer : ADCCC': 0.2, 'SecondaryStr_3:  Mirror K-mer : ADCCD': 0.73, 'SecondaryStr_3:  Mirror K-mer : ADCDA': 0.42, 'SecondaryStr_3:  Mirror K-mer : ADCDC': 0.42, 'SecondaryStr_3:  Mirror K-mer : ADCDD': 0.62, 'SecondaryStr_3:  Mirror K-mer : ADDAC': 0.94, 'SecondaryStr_3:  Mirror K-mer : ADDAD': 0.9299999999999999, 'SecondaryStr_3:  Mirror K-mer : ADDCC': 0.62, 'SecondaryStr_3:  Mirror K-mer : ADDCD': 0.52, 'SecondaryStr_3:  Mirror K-mer : ADDDA': 0.73, 'SecondaryStr_3:  Mirror K-mer : ADDDC': 0.84, 'SecondaryStr_3:  Mirror K-mer : ADDDD': 1.35, 'SecondaryStr_3:  Mirror K-mer : CAAAC': 0.1, 'SecondaryStr_3:  Mirror K-mer : CAAAD': 1.3599999999999999, 'SecondaryStr_3:  Mirror K-mer : CAACC': 0.41000000000000003, 'SecondaryStr_3:  Mirror K-mer : CAACD': 0.2, 'SecondaryStr_3:  Mirror K-mer : CAADC': 0.84, 'SecondaryStr_3:  Mirror K-mer : CAADD': 0.1, 'SecondaryStr_3:  Mirror K-mer : CACAC': 0.31, 'SecondaryStr_3:  Mirror K-mer : CACAD': 0.41000000000000003, 'SecondaryStr_3:  Mirror K-mer : CACCC': 0.2, 'SecondaryStr_3:  Mirror K-mer : CACCD': 0.62, 'SecondaryStr_3:  Mirror K-mer : CACDC': 0.52, 'SecondaryStr_3:  Mirror K-mer : CACDD': 0.2, 'SecondaryStr_3:  Mirror K-mer : CADAC': 0.52, 'SecondaryStr_3:  Mirror K-mer : CADAD': 0.42, 'SecondaryStr_3:  Mirror K-mer : CADCC': 0.31, 'SecondaryStr_3:  Mirror K-mer : CADCD': 0.31, 'SecondaryStr_3:  Mirror K-mer : CADDC': 0.72, 'SecondaryStr_3:  Mirror K-mer : CADDD': 0.9299999999999999, 'SecondaryStr_3:  Mirror K-mer : CCAAD': 0.41000000000000003, 'SecondaryStr_3:  Mirror K-mer : CCACC': 0.0, 'SecondaryStr_3:  Mirror K-mer : CCACD': 0.52, 'SecondaryStr_3:  Mirror K-mer : CCADC': 0.31, 'SecondaryStr_3:  Mirror K-mer : CCADD': 0.73, 'SecondaryStr_3:  Mirror K-mer : CCCAD': 0.42, 'SecondaryStr_3:  Mirror K-mer : CCCCC': 0.0, 'SecondaryStr_3:  Mirror K-mer : CCCCD': 0.0, 'SecondaryStr_3:  Mirror K-mer : CCCDC': 0.1, 'SecondaryStr_3:  Mirror K-mer : CCCDD': 0.31, 'SecondaryStr_3:  Mirror K-mer : CCDAD': 0.2, 'SecondaryStr_3:  Mirror K-mer : CCDCC': 0.21, 'SecondaryStr_3:  Mirror K-mer : CCDCD': 0.41000000000000003, 'SecondaryStr_3:  Mirror K-mer : CCDDC': 0.1, 'SecondaryStr_3:  Mirror K-mer : CCDDD': 1.25, 'SecondaryStr_3:  Mirror K-mer : CDAAD': 0.73, 'SecondaryStr_3:  Mirror K-mer : CDACD': 0.31, 'SecondaryStr_3:  Mirror K-mer : CDADC': 0.21, 'SecondaryStr_3:  Mirror K-mer : CDADD': 0.31, 'SecondaryStr_3:  Mirror K-mer : CDCAD': 0.1, 'SecondaryStr_3:  Mirror K-mer : CDCCD': 0.52, 'SecondaryStr_3:  Mirror K-mer : CDCDC': 0.0, 'SecondaryStr_3:  Mirror K-mer : CDCDD': 0.52, 'SecondaryStr_3:  Mirror K-mer : CDDAD': 0.31, 'SecondaryStr_3:  Mirror K-mer : CDDCD': 1.04, 'SecondaryStr_3:  Mirror K-mer : CDDDC': 0.31, 'SecondaryStr_3:  Mirror K-mer : CDDDD': 0.94, 'SecondaryStr_3:  Mirror K-mer : DAAAD': 1.04, 'SecondaryStr_3:  Mirror K-mer : DAACD': 0.83, 'SecondaryStr_3:  Mirror K-mer : DAADD': 1.35, 'SecondaryStr_3:  Mirror K-mer : DACAD': 0.62, 'SecondaryStr_3:  Mirror K-mer : DACCD': 0.73, 'SecondaryStr_3:  Mirror K-mer : DACDD': 1.14, 'SecondaryStr_3:  Mirror K-mer : DADAD': 0.83, 'SecondaryStr_3:  Mirror K-mer : DADCD': 0.52, 'SecondaryStr_3:  Mirror K-mer : DADDD': 1.1400000000000001, 'SecondaryStr_3:  Mirror K-mer : DCACD': 0.1, 'SecondaryStr_3:  Mirror K-mer : DCADD': 0.94, 'SecondaryStr_3:  Mirror K-mer : DCCCD': 0.1, 'SecondaryStr_3:  Mirror K-mer : DCCDD': 0.84, 'SecondaryStr_3:  Mirror K-mer : DCDCD': 0.1, 'SecondaryStr_3:  Mirror K-mer : DCDDD': 0.8300000000000001, 'SecondaryStr_3:  Mirror K-mer : DDADD': 0.73, 'SecondaryStr_3:  Mirror K-mer : DDCDD': 0.62, 'SecondaryStr_3:  Mirror K-mer : DDDDD': 1.04, 'NormVDWV_3:  Mirror K-mer : AAAAA': 2.81, 'NormVDWV_3:  Mirror K-mer : AAAAE': 4.27, 'NormVDWV_3:  Mirror K-mer : AAAAF': 1.35, 'NormVDWV_3:  Mirror K-mer : AAAEA': 3.75, 'NormVDWV_3:  Mirror K-mer : AAAEE': 2.5, 'NormVDWV_3:  Mirror K-mer : AAAEF': 1.46, 'NormVDWV_3:  Mirror K-mer : AAAFA': 1.45, 'NormVDWV_3:  Mirror K-mer : AAAFE': 0.94, 'NormVDWV_3:  Mirror K-mer : AAAFF': 0.31, 'NormVDWV_3:  Mirror K-mer : AAEAA': 1.98, 'NormVDWV_3:  Mirror K-mer : AAEAE': 3.13, 'NormVDWV_3:  Mirror K-mer : AAEAF': 0.94, 'NormVDWV_3:  Mirror K-mer : AAEEA': 2.6, 'NormVDWV_3:  Mirror K-mer : AAEEE': 2.19, 'NormVDWV_3:  Mirror K-mer : AAEEF': 1.04, 'NormVDWV_3:  Mirror K-mer : AAEFA': 1.1400000000000001, 'NormVDWV_3:  Mirror K-mer : AAEFE': 1.15, 'NormVDWV_3:  Mirror K-mer : AAEFF': 0.52, 'NormVDWV_3:  Mirror K-mer : AAFAA': 0.83, 'NormVDWV_3:  Mirror K-mer : AAFAE': 0.84, 'NormVDWV_3:  Mirror K-mer : AAFAF': 0.41000000000000003, 'NormVDWV_3:  Mirror K-mer : AAFEA': 1.35, 'NormVDWV_3:  Mirror K-mer : AAFEE': 0.72, 'NormVDWV_3:  Mirror K-mer : AAFEF': 0.1, 'NormVDWV_3:  Mirror K-mer : AAFFA': 0.52, 'NormVDWV_3:  Mirror K-mer : AAFFE': 0.41000000000000003, 'NormVDWV_3:  Mirror K-mer : AAFFF': 0.63, 'NormVDWV_3:  Mirror K-mer : AEAAE': 2.71, 'NormVDWV_3:  Mirror K-mer : AEAAF': 1.56, 'NormVDWV_3:  Mirror K-mer : AEAEA': 1.67, 'NormVDWV_3:  Mirror K-mer : AEAEE': 1.98, 'NormVDWV_3:  Mirror K-mer : AEAEF': 0.94, 'NormVDWV_3:  Mirror K-mer : AEAFA': 0.73, 'NormVDWV_3:  Mirror K-mer : AEAFE': 0.73, 'NormVDWV_3:  Mirror K-mer : AEAFF': 0.94, 'NormVDWV_3:  Mirror K-mer : AEEAE': 1.98, 'NormVDWV_3:  Mirror K-mer : AEEAF': 0.42, 'NormVDWV_3:  Mirror K-mer : AEEEA': 0.83, 'NormVDWV_3:  Mirror K-mer : AEEEE': 1.77, 'NormVDWV_3:  Mirror K-mer : AEEEF': 0.52, 'NormVDWV_3:  Mirror K-mer : AEEFA': 0.31, 'NormVDWV_3:  Mirror K-mer : AEEFE': 0.52, 'NormVDWV_3:  Mirror K-mer : AEEFF': 0.94, 'NormVDWV_3:  Mirror K-mer : AEFAE': 0.73, 'NormVDWV_3:  Mirror K-mer : AEFAF': 0.52, 'NormVDWV_3:  Mirror K-mer : AEFEA': 0.31, 'NormVDWV_3:  Mirror K-mer : AEFEE': 1.04, 'NormVDWV_3:  Mirror K-mer : AEFEF': 0.1, 'NormVDWV_3:  Mirror K-mer : AEFFA': 0.1, 'NormVDWV_3:  Mirror K-mer : AEFFE': 0.31, 'NormVDWV_3:  Mirror K-mer : AEFFF': 0.21, 'NormVDWV_3:  Mirror K-mer : AFAAE': 1.35, 'NormVDWV_3:  Mirror K-mer : AFAAF': 0.1, 'NormVDWV_3:  Mirror K-mer : AFAEE': 0.52, 'NormVDWV_3:  Mirror K-mer : AFAEF': 0.31, 'NormVDWV_3:  Mirror K-mer : AFAFA': 0.1, 'NormVDWV_3:  Mirror K-mer : AFAFE': 0.8300000000000001, 'NormVDWV_3:  Mirror K-mer : AFAFF': 0.1, 'NormVDWV_3:  Mirror K-mer : AFEAE': 1.1400000000000001, 'NormVDWV_3:  Mirror K-mer : AFEAF': 0.31, 'NormVDWV_3:  Mirror K-mer : AFEEE': 1.1400000000000001, 'NormVDWV_3:  Mirror K-mer : AFEEF': 0.1, 'NormVDWV_3:  Mirror K-mer : AFEFA': 0.21, 'NormVDWV_3:  Mirror K-mer : AFEFE': 0.1, 'NormVDWV_3:  Mirror K-mer : AFEFF': 0.0, 'NormVDWV_3:  Mirror K-mer : AFFAE': 1.25, 'NormVDWV_3:  Mirror K-mer : AFFAF': 0.1, 'NormVDWV_3:  Mirror K-mer : AFFEE': 0.83, 'NormVDWV_3:  Mirror K-mer : AFFEF': 0.0, 'NormVDWV_3:  Mirror K-mer : AFFFA': 0.1, 'NormVDWV_3:  Mirror K-mer : AFFFE': 0.31, 'NormVDWV_3:  Mirror K-mer : AFFFF': 0.1, 'NormVDWV_3:  Mirror K-mer : EAAAE': 1.15, 'NormVDWV_3:  Mirror K-mer : EAAAF': 1.15, 'NormVDWV_3:  Mirror K-mer : EAAEE': 2.3, 'NormVDWV_3:  Mirror K-mer : EAAEF': 0.83, 'NormVDWV_3:  Mirror K-mer : EAAFE': 0.8300000000000001, 'NormVDWV_3:  Mirror K-mer : EAAFF': 0.94, 'NormVDWV_3:  Mirror K-mer : EAEAE': 1.25, 'NormVDWV_3:  Mirror K-mer : EAEAF': 0.63, 'NormVDWV_3:  Mirror K-mer : EAEEE': 1.1400000000000001, 'NormVDWV_3:  Mirror K-mer : EAEEF': 0.31, 'NormVDWV_3:  Mirror K-mer : EAEFE': 0.31, 'NormVDWV_3:  Mirror K-mer : EAEFF': 0.0, 'NormVDWV_3:  Mirror K-mer : EAFAE': 0.31, 'NormVDWV_3:  Mirror K-mer : EAFAF': 0.1, 'NormVDWV_3:  Mirror K-mer : EAFEE': 0.42, 'NormVDWV_3:  Mirror K-mer : EAFEF': 0.31, 'NormVDWV_3:  Mirror K-mer : EAFFE': 0.31, 'NormVDWV_3:  Mirror K-mer : EAFFF': 0.0, 'NormVDWV_3:  Mirror K-mer : EEAAF': 1.04, 'NormVDWV_3:  Mirror K-mer : EEAEE': 0.52, 'NormVDWV_3:  Mirror K-mer : EEAEF': 0.31, 'NormVDWV_3:  Mirror K-mer : EEAFE': 0.62, 'NormVDWV_3:  Mirror K-mer : EEAFF': 0.31, 'NormVDWV_3:  Mirror K-mer : EEEAF': 0.62, 'NormVDWV_3:  Mirror K-mer : EEEEE': 2.29, 'NormVDWV_3:  Mirror K-mer : EEEEF': 2.19, 'NormVDWV_3:  Mirror K-mer : EEEFE': 1.15, 'NormVDWV_3:  Mirror K-mer : EEEFF': 0.62, 'NormVDWV_3:  Mirror K-mer : EEFAF': 0.42, 'NormVDWV_3:  Mirror K-mer : EEFEE': 0.42, 'NormVDWV_3:  Mirror K-mer : EEFEF': 0.2, 'NormVDWV_3:  Mirror K-mer : EEFFE': 0.52, 'NormVDWV_3:  Mirror K-mer : EEFFF': 0.52, 'NormVDWV_3:  Mirror K-mer : EFAAF': 0.41000000000000003, 'NormVDWV_3:  Mirror K-mer : EFAEF': 0.1, 'NormVDWV_3:  Mirror K-mer : EFAFE': 0.1, 'NormVDWV_3:  Mirror K-mer : EFAFF': 0.0, 'NormVDWV_3:  Mirror K-mer : EFEAF': 0.31, 'NormVDWV_3:  Mirror K-mer : EFEEF': 0.41000000000000003, 'NormVDWV_3:  Mirror K-mer : EFEFE': 0.1, 'NormVDWV_3:  Mirror K-mer : EFEFF': 0.0, 'NormVDWV_3:  Mirror K-mer : EFFAF': 0.21, 'NormVDWV_3:  Mirror K-mer : EFFEF': 0.0, 'NormVDWV_3:  Mirror K-mer : EFFFE': 0.1, 'NormVDWV_3:  Mirror K-mer : EFFFF': 0.2, 'NormVDWV_3:  Mirror K-mer : FAAAF': 0.1, 'NormVDWV_3:  Mirror K-mer : FAAEF': 0.52, 'NormVDWV_3:  Mirror K-mer : FAAFF': 0.31, 'NormVDWV_3:  Mirror K-mer : FAEAF': 0.42, 'NormVDWV_3:  Mirror K-mer : FAEEF': 0.42, 'NormVDWV_3:  Mirror K-mer : FAEFF': 0.1, 'NormVDWV_3:  Mirror K-mer : FAFAF': 0.31, 'NormVDWV_3:  Mirror K-mer : FAFEF': 0.1, 'NormVDWV_3:  Mirror K-mer : FAFFF': 0.0, 'NormVDWV_3:  Mirror K-mer : FEAEF': 0.1, 'NormVDWV_3:  Mirror K-mer : FEAFF': 0.31, 'NormVDWV_3:  Mirror K-mer : FEEEF': 0.1, 'NormVDWV_3:  Mirror K-mer : FEEFF': 0.31, 'NormVDWV_3:  Mirror K-mer : FEFEF': 0.0, 'NormVDWV_3:  Mirror K-mer : FEFFF': 0.0, 'NormVDWV_3:  Mirror K-mer : FFAFF': 0.1, 'NormVDWV_3:  Mirror K-mer : FFEFF': 0.0, 'NormVDWV_3:  Mirror K-mer : FFFFF': 0.1}\n"
     ]
    }
   ],
   "source": [
    "#To test ProFet and define chaves values\n",
    "seq = 'MKKFFDSRREQGGSGLGSGSSGGGGSTSGLGSGYIGRVFGIGRQQVTVDEVLAEGGFAIVFLVRTSNGMKCALKRMFVNNEHDLQVCKREIQIMRDLSGHKNIVGYIDSSINNVSSGDVWEVLILMDFCRGGQVVNLMNQRLQTGFTENEVLQIFCDTCEAVARLHQCKTPIIHRDLKVENILLHDRGHYVLCDFGSATNKFQNPQTEGVNAVEDEIKKYTTLSYRAPEMVNLYSGKIITTKADIWALGCLLYKLCYFTLPFGESQVAICDGNFTIPDNSRYSQDMHCLIRYMLEPDPDKRPDIYQVSYFSFKLLKKECPIPNVQNSPIPAKLPEPVKASEAAAKKTQPKARLTDPIPTTETSIAPRQRPKAGQTQPNPGILPIQPALTPRKRATVQPPPQAAGSSNQPGLLASVPQPKPQAPPSQPLPQTQAKQPQAPPTPQQTPSTQAQGLPAQAQATPQHQQQLFLKQQQQQQQPPPAQQQPAGTFYQQQQAQTQQFQAVHPATQKPAIAQFPVVSQGGSQQQLMQNFYQQQQQQQQQQQQQQLATALHQQQLMTQQAALQQKPTMAAGQQPQPQPAAAPQPAPAQEPAIQAPVRQQPKVQTTPPPAVQGQKVGSLTPPSSPKTQRAGHRRILSDVTHSAVFGVPASKSTQLLQAAAAEASLNKSKSATTTPSGSPRTSQQNVYNPSEGSTWNPFDDDNFSKLTAEELLNKDFAKLGEGKHPEKLGGSAESLIPGFQSTQGDAFATTSFSAGTAEKRKGGQTVDSGLPLLSVSDPFIPLQVPDAPEKLIEGLKSPDTSLLLPDLLPMTDPFGSTSDAVIEKADVAVESLIPGLEPPVPQRLPSQTESVTSNRTDSLTGEDSLLDCSLLSNPTTDLLEEFAPTAISAPVHKAAEDSNLISGFDVPEGSDKVAEDEFDPIPVLITKNPQGGHSRNSSGSSESSLPNLARSLLLVDQLIDL'\n",
    "dic = enzyme_descriptors.Get_Protein_Feat(seq, SeqReducedAlph='ofer14', ReducedK=2, GetSimpleFeatSet=True, GetExtraScaleFeatSet=True,\n",
    "                       aaParamScaleWindow=7, ExtraScaleWindow=17, GetSubSeqSegs=True, SubSeqSegs=3,\n",
    "                       GetTriLetterGroupAlphKFreq=True, TriLetterGroupAlphK=5, GetSeqReducedGroups=True,\n",
    "                       SeqReducedGroups='ofer_w8', GetSeqReducedAlph=True, GetCTDFeatSet=True,\n",
    "                       GetPTMFeatSet=True, GetDBCleavageFeatSet=True, split_N=False, split_C=False,\n",
    "                       N_TAIL_REGION=30, C_TAIL_REGION=30)\n",
    "\n",
    "print(dic)"
   ]
  },
  {
   "cell_type": "code",
   "execution_count": 37,
   "metadata": {},
   "outputs": [
    {
     "data": {
      "text/plain": [
       "(5, 1220)"
      ]
     },
     "execution_count": 37,
     "metadata": {},
     "output_type": "execute_result"
    }
   ],
   "source": [
    "#GET ENZYME SEQUENCES\n",
    "#remove rows without target_id\n",
    "data = data[~data.target_id.isnull()]\n",
    "data = enzyme_descriptors.add_sequence_col(data, 'target_id')\n",
    "data.shape"
   ]
  },
  {
   "cell_type": "code",
   "execution_count": 38,
   "metadata": {},
   "outputs": [
    {
     "name": "stdout",
     "output_type": "stream",
     "text": [
      "0\n"
     ]
    }
   ],
   "source": [
    "print(data.sequence.isnull().sum())"
   ]
  },
  {
   "cell_type": "code",
   "execution_count": 39,
   "metadata": {},
   "outputs": [
    {
     "name": "stdout",
     "output_type": "stream",
     "text": [
      "Get_Protein_Feat done :D !\n",
      "Get_Protein_Feat done :D !\n",
      "Get_Protein_Feat done :D !\n",
      "Get_Protein_Feat done :D !\n",
      "Get_Protein_Feat done :D !\n",
      "Get_Protein_Feat done :D !\n"
     ]
    },
    {
     "data": {
      "text/plain": [
       "compound_id                          0\n",
       "standard_inchi_key                   0\n",
       "compound_name                        1\n",
       "target_id                            0\n",
       "target_pref_name                     0\n",
       "gene_names                           1\n",
       "wildtype_or_mutant                   4\n",
       "pubmed_id                            0\n",
       "standard_type                        0\n",
       "standard_relation                    0\n",
       "standard_value                       0\n",
       "standard_units                       0\n",
       "ep_action_mode                       4\n",
       "assay_format                         3\n",
       "assaytype                            4\n",
       "assay_subtype                        4\n",
       "detection_tech                       4\n",
       "compound_concentration_value         4\n",
       "compound_concentration_value_unit    4\n",
       "substrate_type                       4\n",
       "assay_description                    0\n",
       "title                                0\n",
       "journal                              0\n",
       "doc_type                             0\n",
       "smiles                               0\n",
       "standard_inchi                       0\n",
       "standard_inchi_key_chembl            0\n",
       "Morgan_0                             0\n",
       "Morgan_1                             0\n",
       "Morgan_2                             0\n",
       "                                    ..\n",
       "NormVDWV_3:  Mirror K-mer : EFAAF    0\n",
       "NormVDWV_3:  Mirror K-mer : EFAEF    0\n",
       "NormVDWV_3:  Mirror K-mer : EFAFE    0\n",
       "NormVDWV_3:  Mirror K-mer : EFAFF    0\n",
       "NormVDWV_3:  Mirror K-mer : EFEAF    0\n",
       "NormVDWV_3:  Mirror K-mer : EFEEF    0\n",
       "NormVDWV_3:  Mirror K-mer : EFEFE    0\n",
       "NormVDWV_3:  Mirror K-mer : EFEFF    0\n",
       "NormVDWV_3:  Mirror K-mer : EFFAF    0\n",
       "NormVDWV_3:  Mirror K-mer : EFFEF    0\n",
       "NormVDWV_3:  Mirror K-mer : EFFFE    0\n",
       "NormVDWV_3:  Mirror K-mer : EFFFF    0\n",
       "NormVDWV_3:  Mirror K-mer : FAAAF    0\n",
       "NormVDWV_3:  Mirror K-mer : FAAEF    0\n",
       "NormVDWV_3:  Mirror K-mer : FAAFF    0\n",
       "NormVDWV_3:  Mirror K-mer : FAEAF    0\n",
       "NormVDWV_3:  Mirror K-mer : FAEEF    0\n",
       "NormVDWV_3:  Mirror K-mer : FAEFF    0\n",
       "NormVDWV_3:  Mirror K-mer : FAFAF    0\n",
       "NormVDWV_3:  Mirror K-mer : FAFEF    0\n",
       "NormVDWV_3:  Mirror K-mer : FAFFF    0\n",
       "NormVDWV_3:  Mirror K-mer : FEAEF    0\n",
       "NormVDWV_3:  Mirror K-mer : FEAFF    0\n",
       "NormVDWV_3:  Mirror K-mer : FEEEF    0\n",
       "NormVDWV_3:  Mirror K-mer : FEEFF    0\n",
       "NormVDWV_3:  Mirror K-mer : FEFEF    0\n",
       "NormVDWV_3:  Mirror K-mer : FEFFF    0\n",
       "NormVDWV_3:  Mirror K-mer : FFAFF    0\n",
       "NormVDWV_3:  Mirror K-mer : FFEFF    0\n",
       "NormVDWV_3:  Mirror K-mer : FFFFF    0\n",
       "Length: 2393, dtype: int64"
      ]
     },
     "execution_count": 39,
     "metadata": {},
     "output_type": "execute_result"
    }
   ],
   "source": [
    "#GET ENZYME FEATURES FROM SEQUENCES\n",
    "data = enzyme_descriptors.add_ProFet_features(data)\n",
    "data.isnull().sum()"
   ]
  },
  {
   "cell_type": "code",
   "execution_count": 40,
   "metadata": {},
   "outputs": [
    {
     "data": {
      "text/plain": [
       "(5, 2393)"
      ]
     },
     "execution_count": 40,
     "metadata": {},
     "output_type": "execute_result"
    }
   ],
   "source": [
    "data.shape"
   ]
  },
  {
   "cell_type": "code",
   "execution_count": 9,
   "metadata": {},
   "outputs": [
    {
     "data": {
      "text/plain": [
       "compound_id                              0\n",
       "standard_inchi_key                     895\n",
       "compound_name                        20916\n",
       "synonym                              70631\n",
       "target_id                                0\n",
       "target_pref_name                         0\n",
       "gene_names                            9063\n",
       "wildtype_or_mutant                   44639\n",
       "mutation_info                        70283\n",
       "pubmed_id                             3115\n",
       "standard_type                            0\n",
       "standard_relation                       13\n",
       "standard_value                           0\n",
       "standard_units                           0\n",
       "ep_action_mode                       44709\n",
       "assay_format                         41275\n",
       "assaytype                            44706\n",
       "assay_subtype                        44714\n",
       "inhibitor_type                       71722\n",
       "detection_tech                       44708\n",
       "assay_cell_line                      70379\n",
       "compound_concentration_value         44742\n",
       "compound_concentration_value_unit    44741\n",
       "substrate_type                       44843\n",
       "assay_description                      341\n",
       "title                                 2087\n",
       "journal                               1716\n",
       "doc_type                               352\n",
       "annotation_comments                  71769\n",
       "smiles                                   0\n",
       "                                     ...  \n",
       "NormVDWV_3:  Mirror K-mer : EFAAF        0\n",
       "NormVDWV_3:  Mirror K-mer : EFAEF        0\n",
       "NormVDWV_3:  Mirror K-mer : EFAFE        0\n",
       "NormVDWV_3:  Mirror K-mer : EFAFF        0\n",
       "NormVDWV_3:  Mirror K-mer : EFEAF        0\n",
       "NormVDWV_3:  Mirror K-mer : EFEEF        0\n",
       "NormVDWV_3:  Mirror K-mer : EFEFE        0\n",
       "NormVDWV_3:  Mirror K-mer : EFEFF        0\n",
       "NormVDWV_3:  Mirror K-mer : EFFAF        0\n",
       "NormVDWV_3:  Mirror K-mer : EFFEF        0\n",
       "NormVDWV_3:  Mirror K-mer : EFFFE        0\n",
       "NormVDWV_3:  Mirror K-mer : EFFFF        0\n",
       "NormVDWV_3:  Mirror K-mer : FAAAF        0\n",
       "NormVDWV_3:  Mirror K-mer : FAAEF        0\n",
       "NormVDWV_3:  Mirror K-mer : FAAFF        0\n",
       "NormVDWV_3:  Mirror K-mer : FAEAF        0\n",
       "NormVDWV_3:  Mirror K-mer : FAEEF        0\n",
       "NormVDWV_3:  Mirror K-mer : FAEFF        0\n",
       "NormVDWV_3:  Mirror K-mer : FAFAF        0\n",
       "NormVDWV_3:  Mirror K-mer : FAFEF        0\n",
       "NormVDWV_3:  Mirror K-mer : FAFFF        0\n",
       "NormVDWV_3:  Mirror K-mer : FEAEF        0\n",
       "NormVDWV_3:  Mirror K-mer : FEAFF        0\n",
       "NormVDWV_3:  Mirror K-mer : FEEEF        0\n",
       "NormVDWV_3:  Mirror K-mer : FEEFF        0\n",
       "NormVDWV_3:  Mirror K-mer : FEFEF        0\n",
       "NormVDWV_3:  Mirror K-mer : FEFFF        0\n",
       "NormVDWV_3:  Mirror K-mer : FFAFF        0\n",
       "NormVDWV_3:  Mirror K-mer : FFEFF        0\n",
       "NormVDWV_3:  Mirror K-mer : FFFFF        0\n",
       "Length: 2398, dtype: int64"
      ]
     },
     "execution_count": 9,
     "metadata": {},
     "output_type": "execute_result"
    }
   ],
   "source": [
    "data1 = data[data.target_id != 'P08485']\n",
    "data1.isnull().sum()"
   ]
  },
  {
   "cell_type": "code",
   "execution_count": 10,
   "metadata": {
    "collapsed": true
   },
   "outputs": [],
   "source": [
    "data1.to_csv('data_all_descriptors.csv')"
   ]
  },
  {
   "cell_type": "code",
   "execution_count": null,
   "metadata": {
    "collapsed": true
   },
   "outputs": [],
   "source": []
  }
 ],
 "metadata": {
  "kernelspec": {
   "display_name": "Python 3",
   "language": "python",
   "name": "python3"
  },
  "language_info": {
   "codemirror_mode": {
    "name": "ipython",
    "version": 3
   },
   "file_extension": ".py",
   "mimetype": "text/x-python",
   "name": "python",
   "nbconvert_exporter": "python",
   "pygments_lexer": "ipython3",
   "version": "3.6.2"
  }
 },
 "nbformat": 4,
 "nbformat_minor": 2
}
