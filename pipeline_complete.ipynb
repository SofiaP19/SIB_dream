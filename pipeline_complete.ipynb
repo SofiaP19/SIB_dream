{
 "cells": [
  {
   "cell_type": "code",
   "execution_count": 1,
   "metadata": {
    "collapsed": true
   },
   "outputs": [],
   "source": [
    "import first_analysis\n",
    "import enzyme_descriptors\n",
    "import compound_descriptors\n",
    "from DreamMLModels import *"
   ]
  },
  {
   "cell_type": "code",
   "execution_count": 2,
   "metadata": {},
   "outputs": [
    {
     "name": "stdout",
     "output_type": "stream",
     "text": [
      "\n",
      " IMPORT DATA TO PANDAS OBEJECT \n",
      "\n"
     ]
    }
   ],
   "source": [
    "# IMPORT DATA TO PANDAS OBEJECT:\n",
    "print('\\n IMPORT DATA TO PANDAS OBEJECT \\n')\n",
    "# data = pd.read_csv('data/DtcDrugTargetInteractions.csv', sep=',')"
   ]
  },
  {
   "cell_type": "code",
   "execution_count": 3,
   "metadata": {
    "collapsed": true
   },
   "outputs": [],
   "source": [
    "# a small one first to see if everithyng runs:\n",
    "data = pd.read_csv('data/dreamInteractions_reduzido.csv', sep=',', index_col=0)"
   ]
  },
  {
   "cell_type": "code",
   "execution_count": 4,
   "metadata": {},
   "outputs": [
    {
     "name": "stdout",
     "output_type": "stream",
     "text": [
      "\n",
      " ANALYZE THE DATA AND DELETE SOME ROWS WITHOUT INTEREST \n",
      "\n",
      "Data head:\n",
      "\n",
      "           compound_id           standard_inchi_key compound_name synonym  \\\n",
      "3893402  CHEMBL1449346  RJIDGRHOHFDKKB-UHFFFAOYSA-N           NaN     NaN   \n",
      "2744924  CHEMBL1456303  MNIPKPBXCNYLLX-UHFFFAOYSA-N           NaN     NaN   \n",
      "2089192  CHEMBL1096032  JTTGRNWIRRFPKZ-UHFFFAOYSA-N           NaN     NaN   \n",
      "4126374  CHEMBL1721911  SJACXJCFCJVRHS-UHFFFAOYSA-N           NaN     NaN   \n",
      "3323555  CHEMBL1337862  OZBLYGXPDUZZSH-UHFFFAOYSA-N           NaN     NaN   \n",
      "\n",
      "        target_id                      target_pref_name gene_names  \\\n",
      "3893402    O89049  THIOREDOXIN REDUCTASE 1, CYTOPLASMIC        NaN   \n",
      "2744924    P00811                   BETA-LACTAMASE AMPC        NaN   \n",
      "2089192    P11387                   DNA TOPOISOMERASE I       TOP1   \n",
      "4126374    P43220      GLUCAGON-LIKE PEPTIDE 1 RECEPTOR      GLP1R   \n",
      "3323555    P27467                        PROTEIN WNT-3A        NaN   \n",
      "\n",
      "        wildtype_or_mutant mutation_info   pubmed_id         ...          \\\n",
      "3893402                NaN           NaN         NaN         ...           \n",
      "2744924                NaN           NaN         NaN         ...           \n",
      "2089192                NaN           NaN  20392646.0         ...           \n",
      "4126374                NaN           NaN         NaN         ...           \n",
      "3323555                NaN           NaN         NaN         ...           \n",
      "\n",
      "        compound_concentration_value_unit substrate_type  substrate_relation  \\\n",
      "3893402                               NaN            NaN                 NaN   \n",
      "2744924                               NaN            NaN                 NaN   \n",
      "2089192                               NaN            NaN                 NaN   \n",
      "4126374                               NaN            NaN                 NaN   \n",
      "3323555                               NaN            NaN                 NaN   \n",
      "\n",
      "        substrate_value substrate_units  \\\n",
      "3893402             NaN             NaN   \n",
      "2744924             NaN             NaN   \n",
      "2089192             NaN             NaN   \n",
      "4126374             NaN             NaN   \n",
      "3323555             NaN             NaN   \n",
      "\n",
      "                                         assay_description  \\\n",
      "3893402  PUBCHEM_BIOASSAY: qHTS Assay for Inhibitors of...   \n",
      "2744924  PUBCHEM_BIOASSAY: qHTS Inhibitors of AmpC Beta...   \n",
      "2089192  Inhibition of human recombinant TOP1-mediated ...   \n",
      "4126374  PubChem BioAssay. qHTS of GLP-1 Receptor Inver...   \n",
      "3323555  PubChem BioAssay. Dose response validation of ...   \n",
      "\n",
      "                                                     title  \\\n",
      "3893402                          PUBCHEM BIOASSAY DATA SET   \n",
      "2744924                          PUBCHEM BIOASSAY DATA SET   \n",
      "2089192  Synthesis, topoisomerase I and II inhibitory a...   \n",
      "4126374                          PUBCHEM BIOASSAY DATA SET   \n",
      "3323555                          PUBCHEM BIOASSAY DATA SET   \n",
      "\n",
      "                    journal     doc_type annotation_comments  \n",
      "3893402                 NaN      DATASET                 NaN  \n",
      "2744924                 NaN      DATASET                 NaN  \n",
      "2089192  Bioorg. Med. Chem.  PUBLICATION                 NaN  \n",
      "4126374                 NaN      DATASET                 NaN  \n",
      "3323555                 NaN      DATASET                 NaN  \n",
      "\n",
      "[5 rows x 32 columns]\n",
      "\n",
      "\n",
      "Data info:\n",
      "\n",
      "<class 'pandas.core.frame.DataFrame'>\n",
      "Int64Index: 5000 entries, 3893402 to 261513\n",
      "Data columns (total 32 columns):\n",
      "compound_id                          4970 non-null object\n",
      "standard_inchi_key                   4915 non-null object\n",
      "compound_name                        810 non-null object\n",
      "synonym                              3 non-null object\n",
      "target_id                            4984 non-null object\n",
      "target_pref_name                     5000 non-null object\n",
      "gene_names                           4048 non-null object\n",
      "wildtype_or_mutant                   161 non-null object\n",
      "mutation_info                        3 non-null object\n",
      "pubmed_id                            1625 non-null float64\n",
      "standard_type                        5000 non-null object\n",
      "standard_relation                    2952 non-null object\n",
      "standard_value                       4657 non-null float64\n",
      "standard_units                       4577 non-null object\n",
      "ep_action_mode                       175 non-null object\n",
      "assay_format                         757 non-null object\n",
      "assaytype                            175 non-null object\n",
      "assay_subtype                        173 non-null object\n",
      "inhibitor_type                       36 non-null object\n",
      "detection_tech                       174 non-null object\n",
      "assay_cell_line                      412 non-null object\n",
      "compound_concentration_value         169 non-null object\n",
      "compound_concentration_value_unit    169 non-null object\n",
      "substrate_type                       156 non-null object\n",
      "substrate_relation                   54 non-null object\n",
      "substrate_value                      119 non-null object\n",
      "substrate_units                      118 non-null object\n",
      "assay_description                    4892 non-null object\n",
      "title                                4870 non-null object\n",
      "journal                              1652 non-null object\n",
      "doc_type                             4882 non-null object\n",
      "annotation_comments                  117 non-null object\n",
      "dtypes: float64(2), object(30)\n",
      "memory usage: 1.3+ MB\n",
      "None\n",
      "\n",
      "\n",
      "Null values for column: \n",
      "\n",
      "compound_id                            30\n",
      "standard_inchi_key                     85\n",
      "compound_name                        4190\n",
      "synonym                              4997\n",
      "target_id                              16\n",
      "target_pref_name                        0\n",
      "gene_names                            952\n",
      "wildtype_or_mutant                   4839\n",
      "mutation_info                        4997\n",
      "pubmed_id                            3375\n",
      "standard_type                           0\n",
      "standard_relation                    2048\n",
      "standard_value                        343\n",
      "standard_units                        423\n",
      "ep_action_mode                       4825\n",
      "assay_format                         4243\n",
      "assaytype                            4825\n",
      "assay_subtype                        4827\n",
      "inhibitor_type                       4964\n",
      "detection_tech                       4826\n",
      "assay_cell_line                      4588\n",
      "compound_concentration_value         4831\n",
      "compound_concentration_value_unit    4831\n",
      "substrate_type                       4844\n",
      "substrate_relation                   4946\n",
      "substrate_value                      4881\n",
      "substrate_units                      4882\n",
      "assay_description                     108\n",
      "title                                 130\n",
      "journal                              3348\n",
      "doc_type                              118\n",
      "annotation_comments                  4883\n",
      "dtype: int64\n",
      "\n",
      "\n"
     ]
    }
   ],
   "source": [
    "# ANALYZE THE DATA AND DELETE SOME ROWS WITHOUT INTEREST:\n",
    "print('\\n ANALYZE THE DATA AND DELETE SOME ROWS WITHOUT INTEREST \\n')\n",
    "first_analysis.look_at_data(data)\n",
    "# Delete the rows withouth interest and make kd tranformations and conversions (lead with units too)\n",
    "data = first_analysis.first_clean_and_transformations(data)"
   ]
  },
  {
   "cell_type": "code",
   "execution_count": 5,
   "metadata": {},
   "outputs": [
    {
     "name": "stdout",
     "output_type": "stream",
     "text": [
      "\n",
      " TRYING TO COMPLETE DATA \n",
      "\n",
      "Null values for column: \n",
      "\n",
      "compound_id                           0\n",
      "standard_inchi_key                    0\n",
      "compound_name                        14\n",
      "synonym                              58\n",
      "target_id                             2\n",
      "target_pref_name                      0\n",
      "gene_names                            6\n",
      "wildtype_or_mutant                   38\n",
      "mutation_info                        57\n",
      "pubmed_id                             0\n",
      "standard_type                         0\n",
      "standard_relation                     0\n",
      "standard_value                        0\n",
      "standard_units                        0\n",
      "ep_action_mode                       38\n",
      "assay_format                         33\n",
      "assaytype                            38\n",
      "assay_subtype                        38\n",
      "inhibitor_type                       58\n",
      "detection_tech                       38\n",
      "assay_cell_line                      54\n",
      "compound_concentration_value         38\n",
      "compound_concentration_value_unit    38\n",
      "substrate_type                       38\n",
      "substrate_relation                   58\n",
      "substrate_value                      58\n",
      "substrate_units                      58\n",
      "assay_description                     2\n",
      "title                                 2\n",
      "journal                               2\n",
      "doc_type                              2\n",
      "annotation_comments                  58\n",
      "dtype: int64\n",
      "\n",
      "\n",
      "Null values for column: \n",
      "\n",
      "compound_id                           0\n",
      "standard_inchi_key                    0\n",
      "compound_name                        14\n",
      "synonym                              58\n",
      "target_id                             2\n",
      "target_pref_name                      0\n",
      "gene_names                            6\n",
      "wildtype_or_mutant                   38\n",
      "mutation_info                        57\n",
      "pubmed_id                             0\n",
      "standard_type                         0\n",
      "standard_relation                     0\n",
      "standard_value                        0\n",
      "standard_units                        0\n",
      "ep_action_mode                       38\n",
      "assay_format                         33\n",
      "assaytype                            38\n",
      "assay_subtype                        38\n",
      "inhibitor_type                       58\n",
      "detection_tech                       38\n",
      "assay_cell_line                      54\n",
      "compound_concentration_value         38\n",
      "compound_concentration_value_unit    38\n",
      "substrate_type                       38\n",
      "substrate_relation                   58\n",
      "substrate_value                      58\n",
      "substrate_units                      58\n",
      "assay_description                     2\n",
      "title                                 2\n",
      "journal                               2\n",
      "doc_type                              2\n",
      "annotation_comments                  58\n",
      "dtype: int64\n",
      "\n",
      "\n",
      "Null values for column: \n",
      "\n",
      "compound_id                           0\n",
      "standard_inchi_key                    0\n",
      "compound_name                        14\n",
      "synonym                              58\n",
      "target_id                             2\n",
      "target_pref_name                      0\n",
      "gene_names                            6\n",
      "wildtype_or_mutant                   38\n",
      "mutation_info                        57\n",
      "pubmed_id                             0\n",
      "standard_type                         0\n",
      "standard_relation                     0\n",
      "standard_value                        0\n",
      "standard_units                        0\n",
      "ep_action_mode                       38\n",
      "assay_format                         33\n",
      "assaytype                            38\n",
      "assay_subtype                        38\n",
      "inhibitor_type                       58\n",
      "detection_tech                       38\n",
      "assay_cell_line                      54\n",
      "compound_concentration_value         38\n",
      "compound_concentration_value_unit    38\n",
      "substrate_type                       38\n",
      "substrate_relation                   58\n",
      "substrate_value                      58\n",
      "substrate_units                      58\n",
      "assay_description                     2\n",
      "title                                 2\n",
      "journal                               2\n",
      "doc_type                              2\n",
      "annotation_comments                  58\n",
      "dtype: int64\n",
      "\n",
      "\n"
     ]
    }
   ],
   "source": [
    "#COMPLETE COMPOUND ID WITH COMPOUND NAME\n",
    "print('\\n TRYING TO COMPLETE DATA \\n')\n",
    "data = first_analysis.complete_cols(data, 'compound_id', 'compound_name')\n",
    "#see if there were any changes\n",
    "print('Null values for column: \\n')\n",
    "print(data.isnull().sum())\n",
    "print('\\n')\n",
    "\n",
    "\n",
    "#COMPLETE COUMPOUND ID WITH STANDARD_INCHI_KEY\n",
    "data = first_analysis.complete_cols(data, 'compound_id', 'standard_inchi_key')\n",
    "#see if there were any changes\n",
    "print('Null values for column: \\n')\n",
    "print(data.isnull().sum())\n",
    "print('\\n')\n",
    "\n",
    "\n",
    "#COMPLETE STANDARD_INCHI_KEY WITH COMPOUND ID\n",
    "data = first_analysis.complete_cols(data, 'standard_inchi_key', 'compound_id')\n",
    "#see if there were any changes\n",
    "print('Null values for column: \\n')\n",
    "print(data.isnull().sum())\n",
    "print('\\n')"
   ]
  },
  {
   "cell_type": "code",
   "execution_count": 6,
   "metadata": {},
   "outputs": [
    {
     "name": "stdout",
     "output_type": "stream",
     "text": [
      "\n",
      " GET COMPOUND DESCRIPTORS \n",
      "\n",
      "Morgan\n",
      "MACCS\n",
      "MolLogP\n"
     ]
    }
   ],
   "source": [
    "# GET COMPOUND DESCRIPTORS\n",
    "print('\\n GET COMPOUND DESCRIPTORS \\n')\n",
    "data = compound_descriptors.get_compound_descriptors(data, col_compound_id='compound_id', col_smiles='smiles', need_to_generate_similes=True)"
   ]
  },
  {
   "cell_type": "code",
   "execution_count": 7,
   "metadata": {},
   "outputs": [
    {
     "name": "stdout",
     "output_type": "stream",
     "text": [
      "\n",
      " GET ENZYME SEQUENCES \n",
      "\n"
     ]
    },
    {
     "name": "stderr",
     "output_type": "stream",
     "text": [
      "/Users/martagomes/Documents/Bioinformatica/3Semestre/Sistemas_Inteligentes/Trabalho/dream_project/enzyme_descriptors.py:46: SettingWithCopyWarning: \n",
      "A value is trying to be set on a copy of a slice from a DataFrame.\n",
      "Try using .loc[row_indexer,col_indexer] = value instead\n",
      "\n",
      "See the caveats in the documentation: http://pandas.pydata.org/pandas-docs/stable/indexing.html#indexing-view-versus-copy\n",
      "  data['sequence'] = data.apply(get_sequence, axis=1)\n"
     ]
    }
   ],
   "source": [
    "# GET ENZYME SEQUENCES\n",
    "print('\\n GET ENZYME SEQUENCES \\n')\n",
    "data = enzyme_descriptors.add_sequence_col(data, 'target_id')"
   ]
  },
  {
   "cell_type": "code",
   "execution_count": 8,
   "metadata": {},
   "outputs": [
    {
     "name": "stdout",
     "output_type": "stream",
     "text": [
      "\n",
      " GET ENZYME FEATURES FROM SEQUENCES \n",
      "\n"
     ]
    }
   ],
   "source": [
    "# GET ENZYME FEATURES FROM SEQUENCES\n",
    "print('\\n GET ENZYME FEATURES FROM SEQUENCES \\n')\n",
    "data = enzyme_descriptors.add_ProFet_features(data)"
   ]
  },
  {
   "cell_type": "code",
   "execution_count": 9,
   "metadata": {},
   "outputs": [
    {
     "name": "stdout",
     "output_type": "stream",
     "text": [
      "\n",
      " TRAINING MODELS \n",
      "\n"
     ]
    },
    {
     "name": "stderr",
     "output_type": "stream",
     "text": [
      "/Users/martagomes/Documents/Bioinformatica/3Semestre/Sistemas_Inteligentes/Trabalho/dream_project/DreamMLModels.py:261: SettingWithCopyWarning: \n",
      "A value is trying to be set on a copy of a slice from a DataFrame\n",
      "\n",
      "See the caveats in the documentation: http://pandas.pydata.org/pandas-docs/stable/indexing.html#indexing-view-versus-copy\n",
      "  data.dropna(axis=1, how='all', inplace=True)\n",
      "/Users/martagomes/Documents/Bioinformatica/3Semestre/Sistemas_Inteligentes/Trabalho/dream_project/DreamMLModels.py:262: SettingWithCopyWarning: \n",
      "A value is trying to be set on a copy of a slice from a DataFrame\n",
      "\n",
      "See the caveats in the documentation: http://pandas.pydata.org/pandas-docs/stable/indexing.html#indexing-view-versus-copy\n",
      "  data.dropna(axis=0, inplace=True)\n",
      "/Users/martagomes/anaconda3/lib/python3.6/site-packages/sklearn/utils/__init__.py:93: FutureWarning: Conversion of the second argument of issubdtype from `int` to `np.signedinteger` is deprecated. In future, it will be treated as `np.int64 == np.dtype(int).type`.\n",
      "  if np.issubdtype(mask.dtype, np.int):\n"
     ]
    }
   ],
   "source": [
    "#TRAINING MODELS\n",
    "print('\\n TRAINING MODELS \\n')\n",
    "\n",
    "#CREATE INSTANCES FOR THE MODEL CLASS\n",
    "dream = DreamMLModels(data,(10,5)) # 10 lines to the test set (5 to evaluate the final model)\n",
    "dream_feat_sel = DreamMLModels(data,(10,5), feature_selection=True)"
   ]
  },
  {
   "cell_type": "code",
   "execution_count": 10,
   "metadata": {},
   "outputs": [
    {
     "name": "stdout",
     "output_type": "stream",
     "text": [
      "\n",
      " *************************** ML Models ************************************\n",
      "\n",
      "\n",
      "----------------------LR----------------------------\n",
      "\n",
      "explained_variance_score:  0.29290711573167816\n",
      "mean_absolute_error:  1.0820162357527328\n",
      "mean_squared_error:  1.716862376455099\n",
      "mean_squared_log_error:  0.029750178229747837\n",
      "median_absolute_error:  0.7651965762787256\n",
      "r2_score:  0.2925070778727107\n",
      "\n",
      "-------------------------------------------------------------\n",
      "\n",
      "\n",
      "----------------------NNT----------------------------\n",
      "\n",
      "explained_variance_score:  -30915.61544311996\n",
      "mean_absolute_error:  961.930888490585\n",
      "mean_squared_error:  1000335.9174523521\n",
      "mean_squared_log_error:  24.5351389040845\n",
      "median_absolute_error:  808.9892272791728\n",
      "r2_score:  -412222.24576098996\n",
      "\n",
      "-------------------------------------------------------------\n",
      "\n",
      "\n",
      "----------------------SVM----------------------------\n",
      "\n",
      "explained_variance_score:  0.1255258604364139\n",
      "mean_absolute_error:  0.886260565118536\n",
      "mean_squared_error:  2.328110839888921\n",
      "mean_squared_log_error:  0.035744195511111694\n",
      "median_absolute_error:  0.26814761667885545\n",
      "r2_score:  0.040620865284417995\n",
      "\n",
      "-------------------------------------------------------------\n",
      "\n",
      "\n",
      "----------------------RF----------------------------\n",
      "\n",
      "explained_variance_score:  0.4348318330936901\n",
      "mean_absolute_error:  0.9188089898559454\n",
      "mean_squared_error:  1.3727128736648728\n",
      "mean_squared_log_error:  0.02178514011057664\n",
      "median_absolute_error:  0.8903640547082627\n",
      "r2_score:  0.43432586353475333\n",
      "\n",
      "-------------------------------------------------------------\n",
      "\n"
     ]
    }
   ],
   "source": [
    "#CREATE AND TEST MODELS\n",
    "#create and evaluate all the models\n",
    "print('\\n *************************** ML Models ************************************\\n')\n",
    "modelos = dream.create_test_eval('ALL')"
   ]
  },
  {
   "cell_type": "code",
   "execution_count": 11,
   "metadata": {},
   "outputs": [
    {
     "name": "stdout",
     "output_type": "stream",
     "text": [
      "\n",
      " With feature selection: \n",
      "\n",
      "\n",
      "----------------------LR----------------------------\n",
      "\n",
      "explained_variance_score:  0.5423251224815759\n",
      "mean_absolute_error:  0.43371246759211635\n",
      "mean_squared_error:  0.34726376752582955\n",
      "mean_squared_log_error:  0.007235049750769241\n",
      "median_absolute_error:  0.1944819879557409\n",
      "r2_score:  0.39878711383163323\n",
      "\n",
      "-------------------------------------------------------------\n",
      "\n",
      "\n",
      "----------------------NNT----------------------------\n",
      "\n",
      "explained_variance_score:  -291655.8590559051\n",
      "mean_absolute_error:  1167.7644137011498\n",
      "mean_squared_error:  1532136.2822335358\n",
      "mean_squared_log_error:  26.77992502415318\n",
      "median_absolute_error:  1126.765510570944\n",
      "r2_score:  -2652565.0388004077\n",
      "\n",
      "-------------------------------------------------------------\n",
      "\n",
      "\n",
      "----------------------SVM----------------------------\n",
      "\n",
      "explained_variance_score:  0.06249496029141455\n",
      "mean_absolute_error:  0.6610574650932269\n",
      "mean_squared_error:  0.5647113547530875\n",
      "mean_squared_log_error:  0.012231237768197813\n",
      "median_absolute_error:  0.6281820454696012\n",
      "r2_score:  0.022323158381620467\n",
      "\n",
      "-------------------------------------------------------------\n",
      "\n",
      "\n",
      "----------------------RF----------------------------\n",
      "\n",
      "explained_variance_score:  0.8979213108787093\n",
      "mean_absolute_error:  0.40774906701472313\n",
      "mean_squared_error:  0.22522049656899612\n",
      "mean_squared_log_error:  0.0056902601847353615\n",
      "median_absolute_error:  0.3629050599789725\n",
      "r2_score:  0.6100789157151345\n",
      "\n",
      "-------------------------------------------------------------\n",
      "\n"
     ]
    },
    {
     "data": {
      "text/plain": [
       "[('LR',\n",
       "  LinearRegression(copy_X=True, fit_intercept=True, n_jobs=1, normalize=False),\n",
       "  array([7.65544643, 6.04868862, 4.80551801, 4.99754422, 4.83250172])),\n",
       " ('NNT',\n",
       "  MLPRegressor(activation='relu', alpha=0.0001, batch_size='auto', beta_1=0.9,\n",
       "         beta_2=0.999, early_stopping=False, epsilon=1e-08,\n",
       "         hidden_layer_sizes=(100,), learning_rate='constant',\n",
       "         learning_rate_init=0.001, max_iter=200, momentum=0.9,\n",
       "         nesterovs_momentum=True, power_t=0.5, random_state=None,\n",
       "         shuffle=True, solver='adam', tol=0.0001, validation_fraction=0.1,\n",
       "         verbose=False, warm_start=False),\n",
       "  array([ 768.14412085, 1131.76551057, 1539.44061739, 1731.67115133,\n",
       "          694.70067713])),\n",
       " ('SVM',\n",
       "  SVR(C=1.0, cache_size=200, coef0=0.0, degree=3, epsilon=0.1, gamma='auto',\n",
       "    kernel='rbf', max_iter=-1, shrinking=True, tol=0.001, verbose=False),\n",
       "  array([5.62818205, 5.62818205, 5.62818205, 5.14891447, 5.62818205])),\n",
       " ('RF', RandomForestRegressor(bootstrap=True, criterion='mse', max_depth=None,\n",
       "             max_features='auto', max_leaf_nodes=None,\n",
       "             min_impurity_decrease=0.0, min_impurity_split=None,\n",
       "             min_samples_leaf=1, min_samples_split=2,\n",
       "             min_weight_fraction_leaf=0.0, n_estimators=10, n_jobs=1,\n",
       "             oob_score=False, random_state=None, verbose=0, warm_start=False), array([6.90736386, 5.35070023, 5.69812935, 5.6196556 , 5.36290506]))]"
      ]
     },
     "execution_count": 11,
     "metadata": {},
     "output_type": "execute_result"
    }
   ],
   "source": [
    "print(\"\\n With feature selection: \\n\")\n",
    "dream_feat_sel.create_test_eval('ALL')"
   ]
  },
  {
   "cell_type": "code",
   "execution_count": 12,
   "metadata": {},
   "outputs": [
    {
     "name": "stdout",
     "output_type": "stream",
     "text": [
      "['SecondaryStr_3:  Mirror K-mer : ACACA', 'NormVDWV_3:  Mirror K-mer : AEEFA', 'SolventA_3:  Mirror K-mer : HAAHH', 'AA: Q Frequency', 'hp2: ACCCC', 'PI', 'Disorder_3:  Mirror K-mer : CCCCD', 'hp aaScale - Window size:17 Trimmed Average', 'SolventA_3:  Mirror K-mer : DDHHH', 'SecondaryStr_3:  Mirror K-mer : CADDC', 'Disorder_3:  Mirror K-mer : CADCC', 'Disorder_3:  Mirror K-mer : ADCCD', 'ofer14:  Mirror K-mer : AQ', 'Disorder_3:  Mirror K-mer : ACCCA', 'SecondaryStr_3:  Mirror K-mer : AAACC', 'ASAInTripeptide aaScale - Window size:17 Average-Trimmed MIN', 'ofer14:  Mirror K-mer : DG', 'Normalized VDWV Composition:3', 'Mutability aaScale - Window size:17 MAXIMUM ', 'SubSequence(segment-1)  aaScale:4Atch_2 Average', 'NormVDWV_3:  Mirror K-mer : AEFEE', 'ja aaScale - Window size:7 MAXIMUM ', 'Secondary Str Distribution1100', 'N Entropy', 'Charge Distribution2100', 'hp2: AAACA', 'GRAVY', 'Charge Distribution3100', 'SecondaryStr_3:  Mirror K-mer : ADACC', 'gg_9 aaScale - Window size:17 Average-Trimmed MAX', 'Polarizability Distribution1050', 'SubSequence(segment-0)  aaScale:4hp Minimum', 'Disorder_3:  Mirror K-mer : DADCD', 'Disorder_3:  Mirror K-mer : ADACD', 'Polarizability Distribution3050', 'NormVDWV_3:  Mirror K-mer : FAFFF', 'Disorder_3:  Mirror K-mer : CCCCC', 'hp2: ACAAA', 'Polarity Distribution2001', 'SecondaryStr_3:  Mirror K-mer : CACAC', 'gg_8 aaScale - Window size:7 MINIMUM ', 'Disorder Propensity Distribution3025', 'Hydrophobicity Distribution1001', 'gg_6 aaScale - Window size:7 MAXIMUM ', 'gg_11 aaScale - Window size:7 MAXIMUM ', 'ofer14:  Mirror K-mer : PQ', 'polarizability aaScale - Window size:17 Average-Trimmed MAX', 'SecondaryStr_3:  Mirror K-mer : AADCC', 'SubSequence(segment-1)  aaScale:4Atch_3 Average', 'Disorder Propensity Distribution3050', 'Binary AutoCorrellation (K,R):  Lag:4', 'Disorder_3:  Mirror K-mer : CADDC', 'NormVDWV_3:  Mirror K-mer : EEEFF', 'SolventA_3:  Mirror K-mer : DADAD', 'SecondaryStr_3:  Mirror K-mer : ADCDA', 'Mutability aaScale - Window size:7 Average-Trimmed MIN', 'Disorder_3:  Mirror K-mer : CAAAD', 'AA: Y Frequency', 'SubSequence(segment-1)  aaScale:4Atch_2 Minimum', 'Solvent Accessibility Distribution1025', 'Charge Distribution2075', 'NormVDWV_3:  Mirror K-mer : AAAFF', 'gg_3 aaScale - Window size:7 Average-Trimmed MAX', 'SecondaryStr_3:  Mirror K-mer : CAAAD', 'NormVDWV_3:  Mirror K-mer : AAFEF', 'SubSequence(segment-1)  aaScale:4hw Average', 'ofer14:  Mirror K-mer : CE', 'SecondaryStr_3:  Mirror K-mer : AACAA', 'Normalized VDWV Distribution3025', 'AA: N Frequency', 'SecondaryStr_3:  Mirror K-mer : DDADD', 'M Entropy', 'NormVDWV_3:  Mirror K-mer : EAFEF', 'SecondaryStr_3:  Mirror K-mer : AADDA', 'Disorder_3:  Mirror K-mer : ADDCD', 'SolventA_3:  Mirror K-mer : DHAAH', 'Polarity Distribution2025', 'AA: A Frequency', 'Disorder_3:  Mirror K-mer : CADAD', 'gg_7 aaScale - Window size:17 Average-Trimmed MIN', 'gg_6 aaScale - Window size:7 Trimmed Average', 'gg_8 aaScale - Window size:17 MAXIMUM ', 'NormVDWV_3:  Mirror K-mer : EAEEE', 'Secondary Str Composition:1', 'hp aaScale - Window size:7 Average-Trimmed MAX', 'SolventA_3:  Mirror K-mer : DADDH', 'hp2: CCCAA', 'SecondaryStr_3:  Mirror K-mer : ACDCD', 'SolventA_3:  Mirror K-mer : DDHHD', 'Disorder_3:  Mirror K-mer : DACDD', 'NormVDWV_3:  Mirror K-mer : AAEEE', 'ofer14:  Mirror K-mer : GN', 'SolventA_3:  Mirror K-mer : DHDDH', 'Disorder_3:  Mirror K-mer : CDACD', 'gg_5 aaScale - Window size:17 Average-Trimmed MIN', 'Polarizability Distribution2025', 'NormVDWV_3:  Mirror K-mer : EAFAE', 'ofer14:  Mirror K-mer : DP', 'Disorder_3:  Mirror K-mer : DAACD', 'ofer14:  Mirror K-mer : CS']\n"
     ]
    }
   ],
   "source": [
    "#Selecting the top features with random forests (only ProFet features)\n",
    "print(dream.RF_feature_selection(100,True))"
   ]
  },
  {
   "cell_type": "code",
   "execution_count": null,
   "metadata": {
    "collapsed": true
   },
   "outputs": [],
   "source": []
  }
 ],
 "metadata": {
  "kernelspec": {
   "display_name": "Python 3",
   "language": "python",
   "name": "python3"
  },
  "language_info": {
   "codemirror_mode": {
    "name": "ipython",
    "version": 3
   },
   "file_extension": ".py",
   "mimetype": "text/x-python",
   "name": "python",
   "nbconvert_exporter": "python",
   "pygments_lexer": "ipython3",
   "version": "3.6.2"
  }
 },
 "nbformat": 4,
 "nbformat_minor": 2
}
